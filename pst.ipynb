{
 "cells": [
  {
   "cell_type": "code",
   "execution_count": 4,
   "metadata": {},
   "outputs": [],
   "source": [
    "import pandas as pd\n",
    "from backend.src.utils import MySQLAgent, read_config\n",
    "\n",
    "import json\n",
    "from datetime import datetime\n",
    "\n",
    "import matplotlib.pyplot as plt\n",
    "\n",
    "plt.rcParams['font.sans-serif'] = ['Microsoft JhengHei'] \n",
    "plt.rcParams['axes.unicode_minus'] = False"
   ]
  },
  {
   "cell_type": "code",
   "execution_count": 5,
   "metadata": {},
   "outputs": [],
   "source": [
    "year_region = 5"
   ]
  },
  {
   "cell_type": "code",
   "execution_count": 6,
   "metadata": {},
   "outputs": [
    {
     "data": {
      "text/plain": [
       "5"
      ]
     },
     "execution_count": 6,
     "metadata": {},
     "output_type": "execute_result"
    }
   ],
   "source": [
    "year_region"
   ]
  },
  {
   "cell_type": "code",
   "execution_count": 7,
   "metadata": {},
   "outputs": [],
   "source": [
    "configs = read_config(path=\"./backend/.env/connections.json\")\n",
    "time_config = 'past'"
   ]
  },
  {
   "cell_type": "code",
   "execution_count": 8,
   "metadata": {},
   "outputs": [],
   "source": [
    "try:\n",
    "    #TODO: switch to CrawlerDB\n",
    "    job_configs = configs[\"CREDITREPORT\"]['Crawler_mysql_conn_info']\n",
    "    sql_agent = MySQLAgent(job_configs)\n",
    "\n",
    "    query = f\"\"\"\n",
    "    select * from w_yfy_crd_pst_f\n",
    "    where debtor_accounting_no = '86156446'\n",
    "    \"\"\"\n",
    "    \n",
    "    df_pst = sql_agent.read_table(query=query)\n",
    "\n",
    "    df_pst = df_pst[~df_pst['register_no'].isnull()]\n",
    "\n",
    "\n",
    "    df_pst['agreement_end_date'] = pd.to_datetime(df_pst['agreement_end_date'])\n",
    "\n",
    "    current_year = datetime.now().year\n",
    "\n",
    "    def sliced_data(df):\n",
    "        df['agreement_end_year'] = df['agreement_end_date'].dt.year\n",
    "        years_range = list(range(current_year - year_region, current_year))\n",
    "        df_sliced = df[df['agreement_end_year'].isin(years_range)]\n",
    "        return df_sliced\n",
    "    \n",
    "    if time_config == 'past':\n",
    "        df_sliced = sliced_data(df_pst)\n",
    "        if df_sliced['agreement_end_date'].max() < datetime.now():\n",
    "            # if df_sliced.empty:\n",
    "                # return {\"message\": self.no_data_msg}\n",
    "\n",
    "            # for past : max\n",
    "            nearest_end_date = df_sliced['agreement_end_date'].max().dt.date\n",
    "        # elif df_sliced['agreement_end_date'].max() > datetime.now():\n",
    "            # return {\"message\": self.no_data_msg}, None, None\n",
    "        \n",
    "    elif time_config == 'future':\n",
    "        df_sliced = sliced_data(df_pst)\n",
    "        if df_pst['agreement_end_date'].min() >= datetime.now():\n",
    "            \n",
    "            # if df_sliced.empty:\n",
    "                # return {\"message\": self.no_data_msg}\n",
    "            # for future: min\n",
    "            nearest_end_date = df_sliced['agreement_end_date'].min().dt.date\n",
    "\n",
    "        # elif df_pst['agreement_end_date'].min() < datetime.now():\n",
    "            # return {\"message\": self.no_data_msg}, None, None\n",
    "        \n",
    "    # else:\n",
    "        # return {\"message\": 'wrong time config for pst_analysis'}\n",
    "\n",
    "except Exception as e:\n",
    "    error_message = str(e)\n",
    "    # return {\"message\": \"An error occurred while fetching data: \" + error_message}, None, None\n"
   ]
  },
  {
   "cell_type": "code",
   "execution_count": 9,
   "metadata": {},
   "outputs": [
    {
     "ename": "NameError",
     "evalue": "name 'df_sliced' is not defined",
     "output_type": "error",
     "traceback": [
      "\u001b[1;31m---------------------------------------------------------------------------\u001b[0m",
      "\u001b[1;31mNameError\u001b[0m                                 Traceback (most recent call last)",
      "Cell \u001b[1;32mIn[9], line 5\u001b[0m\n\u001b[0;32m      2\u001b[0m     clean_value \u001b[38;5;241m=\u001b[39m value\u001b[38;5;241m.\u001b[39mreplace(\u001b[38;5;124m'\u001b[39m\u001b[38;5;124m(新台幣)\u001b[39m\u001b[38;5;124m'\u001b[39m, \u001b[38;5;124m'\u001b[39m\u001b[38;5;124m'\u001b[39m)\u001b[38;5;241m.\u001b[39mreplace(\u001b[38;5;124m'\u001b[39m\u001b[38;5;124m,\u001b[39m\u001b[38;5;124m'\u001b[39m,\u001b[38;5;124m'\u001b[39m\u001b[38;5;124m'\u001b[39m)\u001b[38;5;241m.\u001b[39mstrip()\n\u001b[0;32m      3\u001b[0m     \u001b[38;5;28;01mreturn\u001b[39;00m clean_value\n\u001b[1;32m----> 5\u001b[0m df_sliced[\u001b[38;5;124m'\u001b[39m\u001b[38;5;124magreement_amount\u001b[39m\u001b[38;5;124m'\u001b[39m] \u001b[38;5;241m=\u001b[39m \u001b[43mdf_sliced\u001b[49m[\u001b[38;5;124m'\u001b[39m\u001b[38;5;124magreement_amount\u001b[39m\u001b[38;5;124m'\u001b[39m]\u001b[38;5;241m.\u001b[39mapply(convert_to_int)\n",
      "\u001b[1;31mNameError\u001b[0m: name 'df_sliced' is not defined"
     ]
    }
   ],
   "source": [
    "def convert_to_int(value):\n",
    "    clean_value = value.replace('(新台幣)', '').replace(',','').strip()\n",
    "    return clean_value\n",
    "\n",
    "df_sliced['agreement_amount'] = df_sliced['agreement_amount'].apply(convert_to_int)"
   ]
  },
  {
   "cell_type": "code",
   "execution_count": null,
   "metadata": {},
   "outputs": [],
   "source": [
    "df_sliced_clean = df_sliced[df_sliced['agreement_amount']!=\"\"].copy()\n",
    "df_sliced_clean['agreement_amount'] = df_sliced_clean['agreement_amount'].astype(int)\n",
    "df_sliced_clean['agreement_end_year'] = df_sliced_clean['agreement_end_year'].astype(int)"
   ]
  },
  {
   "cell_type": "code",
   "execution_count": null,
   "metadata": {},
   "outputs": [
    {
     "data": {
      "text/html": [
       "<div>\n",
       "<style scoped>\n",
       "    .dataframe tbody tr th:only-of-type {\n",
       "        vertical-align: middle;\n",
       "    }\n",
       "\n",
       "    .dataframe tbody tr th {\n",
       "        vertical-align: top;\n",
       "    }\n",
       "\n",
       "    .dataframe thead th {\n",
       "        text-align: right;\n",
       "    }\n",
       "</style>\n",
       "<table border=\"1\" class=\"dataframe\">\n",
       "  <thead>\n",
       "    <tr style=\"text-align: right;\">\n",
       "      <th></th>\n",
       "      <th>object_type</th>\n",
       "    </tr>\n",
       "  </thead>\n",
       "  <tbody>\n",
       "    <tr>\n",
       "      <th>1</th>\n",
       "      <td></td>\n",
       "    </tr>\n",
       "    <tr>\n",
       "      <th>2</th>\n",
       "      <td></td>\n",
       "    </tr>\n",
       "  </tbody>\n",
       "</table>\n",
       "</div>"
      ],
      "text/plain": [
       "  object_type\n",
       "1            \n",
       "2            "
      ]
     },
     "execution_count": 62,
     "metadata": {},
     "output_type": "execute_result"
    }
   ],
   "source": [
    "df_sliced_clean[['object_type']]"
   ]
  },
  {
   "cell_type": "code",
   "execution_count": null,
   "metadata": {},
   "outputs": [
    {
     "data": {
      "text/html": [
       "<div>\n",
       "<style scoped>\n",
       "    .dataframe tbody tr th:only-of-type {\n",
       "        vertical-align: middle;\n",
       "    }\n",
       "\n",
       "    .dataframe tbody tr th {\n",
       "        vertical-align: top;\n",
       "    }\n",
       "\n",
       "    .dataframe thead th {\n",
       "        text-align: right;\n",
       "    }\n",
       "</style>\n",
       "<table border=\"1\" class=\"dataframe\">\n",
       "  <thead>\n",
       "    <tr style=\"text-align: right;\">\n",
       "      <th></th>\n",
       "      <th>agreement_end_year</th>\n",
       "      <th>total_agreement_amount</th>\n",
       "      <th>average_agreement_amount</th>\n",
       "      <th>agreement_count</th>\n",
       "    </tr>\n",
       "  </thead>\n",
       "  <tbody>\n",
       "    <tr>\n",
       "      <th>0</th>\n",
       "      <td>2023</td>\n",
       "      <td>44482400</td>\n",
       "      <td>22241200.0</td>\n",
       "      <td>2</td>\n",
       "    </tr>\n",
       "  </tbody>\n",
       "</table>\n",
       "</div>"
      ],
      "text/plain": [
       "   agreement_end_year  total_agreement_amount  average_agreement_amount  \\\n",
       "0                2023                44482400                22241200.0   \n",
       "\n",
       "   agreement_count  \n",
       "0                2  "
      ]
     },
     "execution_count": 63,
     "metadata": {},
     "output_type": "execute_result"
    }
   ],
   "source": [
    "# agreement_amount by year\n",
    "annual_agreement_aggregates = df_sliced_clean.groupby('agreement_end_year')['agreement_amount'].agg(\n",
    "    total_agreement_amount='sum',\n",
    "    average_agreement_amount='mean',\n",
    "    agreement_count='count'\n",
    ").reset_index()\n",
    "\n",
    "# Round the average_agreement_amount to 2 decimal places\n",
    "annual_agreement_aggregates['average_agreement_amount'] = annual_agreement_aggregates['average_agreement_amount'].round()\n",
    "\n",
    "annual_agreement_aggregates\n"
   ]
  },
  {
   "cell_type": "code",
   "execution_count": null,
   "metadata": {},
   "outputs": [],
   "source": [
    "df_object_count = df_sliced_clean.groupby('agreement_end_year')['object_type'].agg(object_counts='size').reset_index()"
   ]
  },
  {
   "cell_type": "code",
   "execution_count": null,
   "metadata": {},
   "outputs": [],
   "source": [
    "overall_object_type_counts = {type: df_sliced['object_type'].count() for type in set(df_sliced['object_type'])}\n",
    "annual_object_type_counts = df_sliced_clean.groupby('agreement_end_year')['object_type'].agg(object_counts='size').reset_index()\n",
    "\n",
    "if pd.notna(nearest_end_date):\n",
    "    nearest_end_date_str = nearest_end_date.strftime('%Y-%m-%d')\n",
    "else:\n",
    "    nearest_end_date_str = None\n",
    "\n",
    "pst_dict = {\n",
    "    \"time_config\": time_config,\n",
    "    \"nearest_end_date\": nearest_end_date_str,\n",
    "    \"annual_agreement_aggregates\": annual_agreement_aggregates.to_dict(orient='records'),\n",
    "    \"overall_type_counts\": overall_object_type_counts,\n",
    "    \"annual_type_counts\": annual_object_type_counts.to_dict(orient='records')\n",
    "}"
   ]
  },
  {
   "cell_type": "code",
   "execution_count": null,
   "metadata": {},
   "outputs": [
    {
     "data": {
      "text/plain": [
       "{'time_config': 'past',\n",
       " 'nearest_end_date': '2023-06-24',\n",
       " 'annual_agreement_aggregates': [{'agreement_end_year': 2023,\n",
       "   'total_agreement_amount': 44482400,\n",
       "   'average_agreement_amount': 22241200.0,\n",
       "   'agreement_count': 2}],\n",
       " 'overall_type_counts': {'': 4},\n",
       " 'annual_object_counts': [{'agreement_end_year': 2023, 'object_counts': 2}]}"
      ]
     },
     "execution_count": 73,
     "metadata": {},
     "output_type": "execute_result"
    }
   ],
   "source": [
    "pst_dict"
   ]
  },
  {
   "cell_type": "code",
   "execution_count": null,
   "metadata": {},
   "outputs": [],
   "source": []
  },
  {
   "cell_type": "code",
   "execution_count": null,
   "metadata": {},
   "outputs": [],
   "source": []
  },
  {
   "cell_type": "code",
   "execution_count": null,
   "metadata": {},
   "outputs": [],
   "source": []
  },
  {
   "cell_type": "code",
   "execution_count": null,
   "metadata": {},
   "outputs": [],
   "source": []
  },
  {
   "cell_type": "code",
   "execution_count": null,
   "metadata": {},
   "outputs": [],
   "source": []
  }
 ],
 "metadata": {
  "kernelspec": {
   "display_name": "credit_invest",
   "language": "python",
   "name": "python3"
  },
  "language_info": {
   "codemirror_mode": {
    "name": "ipython",
    "version": 3
   },
   "file_extension": ".py",
   "mimetype": "text/x-python",
   "name": "python",
   "nbconvert_exporter": "python",
   "pygments_lexer": "ipython3",
   "version": "3.10.14"
  }
 },
 "nbformat": 4,
 "nbformat_minor": 2
}
