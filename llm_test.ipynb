{
 "cells": [
  {
   "cell_type": "code",
   "execution_count": 1,
   "metadata": {},
   "outputs": [
    {
     "name": "stderr",
     "output_type": "stream",
     "text": [
      "c:\\Users\\sean.chang\\AppData\\Local\\anaconda3\\envs\\credit_invest\\lib\\site-packages\\tqdm\\auto.py:21: TqdmWarning: IProgress not found. Please update jupyter and ipywidgets. See https://ipywidgets.readthedocs.io/en/stable/user_install.html\n",
      "  from .autonotebook import tqdm as notebook_tqdm\n"
     ]
    }
   ],
   "source": [
    "import json\n",
    "import re\n",
    "from langchain.chat_models  import AzureChatOpenAI\n",
    "from langchain.schema import SystemMessage, HumanMessage\n",
    "from backend.src.utils import MySQLAgent\n",
    "\n",
    "import google.generativeai as genai\n",
    "import google.ai.generativelanguage as glm\n",
    "from langchain_google_genai import (\n",
    "    ChatGoogleGenerativeAI,\n",
    "    HarmBlockThreshold,\n",
    "    HarmCategory,\n",
    ")"
   ]
  },
  {
   "cell_type": "code",
   "execution_count": 36,
   "metadata": {},
   "outputs": [],
   "source": [
    "def read_config(path):\n",
    "    try:\n",
    "        with open(path, 'r') as file:\n",
    "            configs = json.load(file)\n",
    "\n",
    "        return configs\n",
    "    except FileNotFoundError:\n",
    "        print(f\"The file {path} was not found.\")\n",
    "    except json.JSONDecodeError:\n",
    "        print(f\"Error decoding JSON from the file {path}.\")\n",
    "\n",
    "configs = read_config(path=\"./backend/.env/connections.json\")\n",
    "job_configs = configs[\"CREDITREPORT\"]['Crawler_mysql_conn_info']\n",
    "sql_agent = MySQLAgent(job_configs)"
   ]
  },
  {
   "cell_type": "code",
   "execution_count": 39,
   "metadata": {},
   "outputs": [
    {
     "data": {
      "text/plain": [
       "<backend.src.utils.MySQLAgent at 0x25c1e665930>"
      ]
     },
     "execution_count": 39,
     "metadata": {},
     "output_type": "execute_result"
    }
   ],
   "source": [
    "sql_agent"
   ]
  },
  {
   "cell_type": "code",
   "execution_count": 37,
   "metadata": {},
   "outputs": [],
   "source": [
    "company_id = 83387850\n",
    "query = f\"\"\"\n",
    "SELECT judgement_date, judgement_no, subjectkey, judgement_text01\n",
    "FROM judgement_result\n",
    "WHERE business_accounting_no = '{company_id}'\n",
    "  AND judgement_date >= DATE_SUB(CURRENT_DATE(), INTERVAL 5 YEAR);\n",
    "\"\"\"\n",
    "df_judgement = sql_agent.read_table(query=query)"
   ]
  },
  {
   "cell_type": "code",
   "execution_count": 38,
   "metadata": {},
   "outputs": [
    {
     "data": {
      "text/html": [
       "<div>\n",
       "<style scoped>\n",
       "    .dataframe tbody tr th:only-of-type {\n",
       "        vertical-align: middle;\n",
       "    }\n",
       "\n",
       "    .dataframe tbody tr th {\n",
       "        vertical-align: top;\n",
       "    }\n",
       "\n",
       "    .dataframe thead th {\n",
       "        text-align: right;\n",
       "    }\n",
       "</style>\n",
       "<table border=\"1\" class=\"dataframe\">\n",
       "  <thead>\n",
       "    <tr style=\"text-align: right;\">\n",
       "      <th></th>\n",
       "      <th>judgement_date</th>\n",
       "      <th>judgement_no</th>\n",
       "      <th>subjectkey</th>\n",
       "      <th>judgement_text01</th>\n",
       "    </tr>\n",
       "  </thead>\n",
       "  <tbody>\n",
       "    <tr>\n",
       "      <th>0</th>\n",
       "      <td>2020-10-07</td>\n",
       "      <td>最高法院 109 年度台上字第 1064 號民事裁定</td>\n",
       "      <td>請求給付貨款</td>\n",
       "      <td>最高法院民事裁定　　　　　　　　　 109年度台上字第1064號\\n上　訴　人　傳福企業股份...</td>\n",
       "    </tr>\n",
       "  </tbody>\n",
       "</table>\n",
       "</div>"
      ],
      "text/plain": [
       "  judgement_date                judgement_no subjectkey  \\\n",
       "0     2020-10-07  最高法院 109 年度台上字第 1064 號民事裁定     請求給付貨款   \n",
       "\n",
       "                                    judgement_text01  \n",
       "0  最高法院民事裁定　　　　　　　　　 109年度台上字第1064號\\n上　訴　人　傳福企業股份...  "
      ]
     },
     "execution_count": 38,
     "metadata": {},
     "output_type": "execute_result"
    }
   ],
   "source": [
    "df_judgement = df_judgement.drop_duplicates()\n",
    "df_judgement"
   ]
  },
  {
   "cell_type": "code",
   "execution_count": 35,
   "metadata": {},
   "outputs": [
    {
     "name": "stdout",
     "output_type": "stream",
     "text": [
      "最高法院 109 年度台上字第 1064 號民事裁定\n"
     ]
    }
   ],
   "source": [
    "for _, row in df_judgement.iterrows():\n",
    "    print(row['judgement_no'])"
   ]
  },
  {
   "cell_type": "markdown",
   "metadata": {},
   "source": [
    "## Statistic"
   ]
  },
  {
   "cell_type": "markdown",
   "metadata": {},
   "source": [
    "querykey "
   ]
  },
  {
   "cell_type": "code",
   "execution_count": 5,
   "metadata": {},
   "outputs": [
    {
     "data": {
      "text/plain": [
       "{'請求給付貨款': 1}"
      ]
     },
     "execution_count": 5,
     "metadata": {},
     "output_type": "execute_result"
    }
   ],
   "source": [
    "df_judgement.groupby('subjectkey').size().to_dict()"
   ]
  },
  {
   "cell_type": "markdown",
   "metadata": {},
   "source": [
    "data clean"
   ]
  },
  {
   "cell_type": "code",
   "execution_count": 6,
   "metadata": {},
   "outputs": [
    {
     "data": {
      "text/plain": [
       "'最高法院民事裁定\\u3000\\u3000\\u3000\\u3000\\u3000\\u3000\\u3000\\u3000\\u3000 109年度台上字第1064號\\n上\\u3000訴\\u3000人\\u3000傳福企業股份有限公司\\n法定代理人\\u3000劉文忠\\n訴訟代理人\\u3000謝憲杰律師\\n\\u3000\\u3000\\u3000\\u3000\\u3000\\u3000邰怡瑄律師\\n\\u3000\\u3000\\u3000\\u3000\\u3000\\u3000陳清怡律師\\n被 上訴 人\\u3000三芳化學工業股份有限公司\\n法定代理人\\u3000林孟經\\n訴訟代理人\\u3000王伊忱律師\\n上列當事人間請求給付貨款事件，上訴人對於中華民國107 年11\\n月7日臺灣高等法院第二審判決（106年度上字第1643號），提起\\n上訴，本院裁定如下：\\n    主  文\\n上訴駁回。\\n第三審訴訟費用由上訴人負擔。\\n    理  由\\n按上訴第三審法院，非以原判決違背法令為理由，不得為之。又\\n提起上訴，上訴狀內應記載上訴理由，表明原判決所違背之法令\\n及其具體內容，暨依訴訟資料合於該違背法令之具體事實，其依\\n民事訴訟法第469條之1規定提起上訴者，並應具體敘述為從事法\\n之續造、確保裁判之一致性或其他所涉及之法律見解具有原則上\\n重要性之理由。同法第467條、第470條第2 項定有明文。而依同\\n法第468 條規定，判決不適用法規或適用不當者，為違背法令；\\n依同法第469 條規定，判決有該條所列各款情形之一者，為當然\\n違背法令。是當事人提起上訴，如以同法第469 條所列各款情形\\n為理由時，其上訴狀或理由書應表明該判決有合於各該條款規定\\n情形之具體內容，及係依何訴訟資料合於該違背法令之具體事實\\n。如依同法第468 條規定，以原判決有不適用法規或適用法規不\\n當為理由時，其上訴狀或理由書應表明該判決所違背之法令條項\\n，或有關解釋字號，或成文法以外之習慣或法理等及其具體內容\\n，暨係依何訴訟資料合於該違背法令之具體事實，並具體敘述為\\n從事法之續造、確保裁判之一致性或其他所涉及之法律見解具有\\n原則上重要性之理由。上訴狀或理由書如未依上述方法表明，或\\n其所表明者與上開法條規定不合時，即難認為已合法表明上訴理\\n由，其上訴自非合法。本件上訴人對於原判決提起上訴，雖以該\\n判決違背法令為由，惟核其上訴理由狀所載內容，係就原審取捨\\n證據、認定事實之職權行使，及依職權解釋契約所論斷：上訴人\\n於民國103年9月至11月間向被上訴人訂購如原判決附表（下稱附\\n表）一、二所示單價、數量之PU合成皮，約定該PU合成皮須符合\\n「PUMA物性標準」；被上訴人其後交付上訴人如附表一「交貨數\\n量」欄所示之PU合成皮，並完成附表二「被上訴人主張完工數量\\n」欄所示之PU合成皮。兩造各自取樣之PU合成皮經臺灣檢驗科技\\n股份有限公司鞋材物性實驗室（下稱SGS ）鑑定結果，「磨耗超\\n過100 次，均無表皮破損現象產生」、「並無觀察到⒈樣品表面\\n漆皮被磨穿、⒉試片嚴重的顏色變化」，而判定符合標準。被上\\n訴人請求給付之貨款，已將交付之貨品中有污點、壓痕部分剔除\\n；上訴人就附表一之貨品僅給付部分款項，尚欠貨款新臺幣（下\\n同）136萬5,673元未給付，加計被上訴人完成附表二之貨品款項\\n94萬4,057元，合計共230萬9,730元（136萬5,673元＋94萬4,057\\n元）之本息，被上訴人自得請求上訴人如數給付。因上訴人就附\\n表二之貨款為同時履行抗辯，應由法院就該部分為對待給付之判\\n決等情，指摘其為不當，並就原審已論斷者，再以SGS 鑑定報告\\n所採之鑑定方法錯誤，不得作為認定事實之依據；被上訴人已自\\n認貨品有白點、污點或壓痕之瑕疵，原審未依其自認內容認定事\\n實云云，泛言未論斷或論斷違法，而未表明該判決所違背之法令\\n及其具體內容，暨依訴訟資料合於該違背法令之具體事實，並具\\n體敘述為從事法之續造、確保裁判之一致性或其他所涉及之法律\\n見解具有原則上重要性之理由，難認其已合法表明上訴理由。依\\n首揭說明，應認其上訴為不合法。末查，不必要之證據方法，法\\n院原可衡情不予調查，不受當事人證據聲明之拘束。上訴人指摘\\n原審未調查其所聲請訊問之證人王玉枝及再送鑑定，即屬判決違\\n背法令，不無誤會，併予敘明。\\n據上論結，本件上訴為不合法。依民事訴訟法第481條、第444條\\n第1 項、第95條、第78條，裁定如主文。\\n中    華    民    國   109    年    10    月    7     日\\n                      最高法院民事第八庭\\n                          審判長法官  魏  大  喨\\n                                法官  李  寶  堂\\n                                法官  陳  毓  秀\\n                                法官  林  玉  珮\\n                                法官  李  文  賢\\n本件正本證明與原本無異\\n                                      書  記  官\\n中    華    民    國   109    年    10    月    14    日'"
      ]
     },
     "execution_count": 6,
     "metadata": {},
     "output_type": "execute_result"
    }
   ],
   "source": [
    "df_judgement.iloc[0].judgement_text01"
   ]
  },
  {
   "cell_type": "code",
   "execution_count": 7,
   "metadata": {},
   "outputs": [],
   "source": [
    "def clean_data(data):\n",
    "    # Remove specific unicode characters\n",
    "    cleaned_data = re.sub(r'\\u3000', '', data)\n",
    "    \n",
    "    # Replace multiple spaces with a single space\n",
    "    cleaned_data = re.sub(r'\\s{2,}', ' ', cleaned_data)\n",
    "    \n",
    "    # Remove leading and trailing spaces on each line\n",
    "    cleaned_data = re.sub(r'^\\s+|\\s+$', '', cleaned_data, flags=re.MULTILINE)\n",
    "    \n",
    "    # Remove redundant newlines\n",
    "    cleaned_data = re.sub(r'\\n\\s*\\n', '\\n', cleaned_data)\n",
    "\n",
    "    cleaned_data = re.sub(r'\\n', '', cleaned_data)\n",
    "\n",
    "    cleaned_data = re.sub(r'\\s', '', cleaned_data)\n",
    "    \n",
    "    return cleaned_data\n",
    "\n",
    "def extract_section(data, start_keyword, end_keyword):\n",
    "    # Use regex to find the text between start_keyword and end_keyword\n",
    "    pattern = re.compile(f'{start_keyword}(.*?){end_keyword}', re.DOTALL)\n",
    "    match = pattern.search(data)\n",
    "    if match:\n",
    "        return match.group(1).strip()\n",
    "    else:\n",
    "        return None"
   ]
  },
  {
   "cell_type": "code",
   "execution_count": 8,
   "metadata": {},
   "outputs": [
    {
     "data": {
      "text/plain": [
       "'最高法院民事裁定109年度台上字第1064號上訴人傳福企業股份有限公司法定代理人劉文忠訴訟代理人謝憲杰律師邰怡瑄律師陳清怡律師被上訴人三芳化學工業股份有限公司法定代理人林孟經訴訟代理人王伊忱律師上列當事人間請求給付貨款事件，上訴人對於中華民國107年11月7日臺灣高等法院第二審判決（106年度上字第1643號），提起上訴，本院裁定如下：主文上訴駁回。第三審訴訟費用由上訴人負擔。理由按上訴第三審法院，非以原判決違背法令為理由，不得為之。又提起上訴，上訴狀內應記載上訴理由，表明原判決所違背之法令及其具體內容，暨依訴訟資料合於該違背法令之具體事實，其依民事訴訟法第469條之1規定提起上訴者，並應具體敘述為從事法之續造、確保裁判之一致性或其他所涉及之法律見解具有原則上重要性之理由。同法第467條、第470條第2項定有明文。而依同法第468條規定，判決不適用法規或適用不當者，為違背法令；依同法第469條規定，判決有該條所列各款情形之一者，為當然違背法令。是當事人提起上訴，如以同法第469條所列各款情形為理由時，其上訴狀或理由書應表明該判決有合於各該條款規定情形之具體內容，及係依何訴訟資料合於該違背法令之具體事實。如依同法第468條規定，以原判決有不適用法規或適用法規不當為理由時，其上訴狀或理由書應表明該判決所違背之法令條項，或有關解釋字號，或成文法以外之習慣或法理等及其具體內容，暨係依何訴訟資料合於該違背法令之具體事實，並具體敘述為從事法之續造、確保裁判之一致性或其他所涉及之法律見解具有原則上重要性之理由。上訴狀或理由書如未依上述方法表明，或其所表明者與上開法條規定不合時，即難認為已合法表明上訴理由，其上訴自非合法。本件上訴人對於原判決提起上訴，雖以該判決違背法令為由，惟核其上訴理由狀所載內容，係就原審取捨證據、認定事實之職權行使，及依職權解釋契約所論斷：上訴人於民國103年9月至11月間向被上訴人訂購如原判決附表（下稱附表）一、二所示單價、數量之PU合成皮，約定該PU合成皮須符合「PUMA物性標準」；被上訴人其後交付上訴人如附表一「交貨數量」欄所示之PU合成皮，並完成附表二「被上訴人主張完工數量」欄所示之PU合成皮。兩造各自取樣之PU合成皮經臺灣檢驗科技股份有限公司鞋材物性實驗室（下稱SGS）鑑定結果，「磨耗超過100次，均無表皮破損現象產生」、「並無觀察到⒈樣品表面漆皮被磨穿、⒉試片嚴重的顏色變化」，而判定符合標準。被上訴人請求給付之貨款，已將交付之貨品中有污點、壓痕部分剔除；上訴人就附表一之貨品僅給付部分款項，尚欠貨款新臺幣（下同）136萬5,673元未給付，加計被上訴人完成附表二之貨品款項94萬4,057元，合計共230萬9,730元（136萬5,673元＋94萬4,057元）之本息，被上訴人自得請求上訴人如數給付。因上訴人就附表二之貨款為同時履行抗辯，應由法院就該部分為對待給付之判決等情，指摘其為不當，並就原審已論斷者，再以SGS鑑定報告所採之鑑定方法錯誤，不得作為認定事實之依據；被上訴人已自認貨品有白點、污點或壓痕之瑕疵，原審未依其自認內容認定事實云云，泛言未論斷或論斷違法，而未表明該判決所違背之法令及其具體內容，暨依訴訟資料合於該違背法令之具體事實，並具體敘述為從事法之續造、確保裁判之一致性或其他所涉及之法律見解具有原則上重要性之理由，難認其已合法表明上訴理由。依首揭說明，應認其上訴為不合法。末查，不必要之證據方法，法院原可衡情不予調查，不受當事人證據聲明之拘束。上訴人指摘原審未調查其所聲請訊問之證人王玉枝及再送鑑定，即屬判決違背法令，不無誤會，併予敘明。據上論結，本件上訴為不合法。依民事訴訟法第481條、第444條第1項、第95條、第78條，裁定如主文。中華民國109年10月7日最高法院民事第八庭審判長法官魏大喨法官李寶堂法官陳毓秀法官林玉珮法官李文賢本件正本證明與原本無異書記官中華民國109年10月14日'"
      ]
     },
     "execution_count": 8,
     "metadata": {},
     "output_type": "execute_result"
    }
   ],
   "source": [
    "clean_test = clean_data(df_judgement.iloc[0].judgement_text01)\n",
    "clean_test"
   ]
  },
  {
   "cell_type": "code",
   "execution_count": 9,
   "metadata": {},
   "outputs": [
    {
     "data": {
      "text/plain": [
       "'上訴駁回。第三審訴訟費用由上訴人負擔。理由按上訴第三審法院，非以原判決違背法令為理由，不得為之。又提起上訴，上訴狀內應記載上訴理由，表明原判決所違背之法令及其具體內容，暨依訴訟資料合於該違背法令之具體'"
      ]
     },
     "execution_count": 9,
     "metadata": {},
     "output_type": "execute_result"
    }
   ],
   "source": [
    "start_keyword = \"主文\"\n",
    "end_keyword = \"事實\"\n",
    "\n",
    "result = extract_section(clean_test, start_keyword, end_keyword)\n",
    "result"
   ]
  },
  {
   "cell_type": "markdown",
   "metadata": {},
   "source": [
    "model"
   ]
  },
  {
   "cell_type": "code",
   "execution_count": 12,
   "metadata": {},
   "outputs": [],
   "source": [
    "import os\n",
    "configs = read_config(path=\"./backend/.env/configs.json\")\n",
    "api_key =configs['g_key']\n",
    "os.environ[\"GOOGLE_API_KEY\"] = api_key\n",
    "genai.configure(api_key=api_key)"
   ]
  },
  {
   "cell_type": "code",
   "execution_count": 13,
   "metadata": {},
   "outputs": [],
   "source": [
    "llm = ChatGoogleGenerativeAI(\n",
    "    model=\"gemini-pro\",\n",
    "    convert_system_message_to_human=True,\n",
    "    safety_settings={\n",
    "        HarmCategory.HARM_CATEGORY_HATE_SPEECH: HarmBlockThreshold.BLOCK_NONE,\n",
    "        HarmCategory.HARM_CATEGORY_HARASSMENT: HarmBlockThreshold.BLOCK_NONE,\n",
    "        HarmCategory.HARM_CATEGORY_DANGEROUS_CONTENT: HarmBlockThreshold.BLOCK_NONE,\n",
    "    },\n",
    ")"
   ]
  },
  {
   "cell_type": "code",
   "execution_count": 23,
   "metadata": {},
   "outputs": [
    {
     "name": "stderr",
     "output_type": "stream",
     "text": [
      "c:\\Users\\sean.chang\\AppData\\Local\\anaconda3\\envs\\credit_invest\\lib\\site-packages\\langchain_google_genai\\chat_models.py:345: UserWarning: Convert_system_message_to_human will be deprecated!\n",
      "  warnings.warn(\"Convert_system_message_to_human will be deprecated!\")\n"
     ]
    }
   ],
   "source": [
    "# 加上該公司在主文裡面扮演的腳色，或是他受到什麼影響\n",
    "\n",
    "messages = [\n",
    "    SystemMessage(content=\"你是一個專業的摘要統整AI助手，針對我提出的問題使用繁體中文回覆。\"),\n",
    "    HumanMessage(content=f\"\"\"\n",
    "    #### INSTRUCTION: 仔細閱讀 REF 的內容，提供我以下內容:\n",
    "                1. REF 的摘要\n",
    "                2. COMPANY 公司在其中扮演的腳色\n",
    "                3. COMPANY 公司在其中受到的影響\n",
    "                若沒有找到滿足我需求的內容則說沒有，不要亂作答不然外婆會難過。\n",
    "    #### REF: {clean_test}\n",
    "    #### COMPANY: 三芳化學\n",
    "\"\"\")\n",
    "]\n",
    "\n",
    "result = llm(messages)"
   ]
  },
  {
   "cell_type": "code",
   "execution_count": 24,
   "metadata": {},
   "outputs": [
    {
     "data": {
      "text/plain": [
       "'1. 摘要：\\n   最高法院民事裁定109年度台上字第1064號上訴人傳福企業股份有限公司對被上訴人三芳化學工業股份有限公司請求給付貨款。上訴人認為原判決違背法令，但在上訴理由狀中未具體說明違背法令的部分，因此上訴為不合法。\\n\\n2. 公司在其中扮演的腳色：\\n   被上訴人三芳化學工業股份有限公司。\\n\\n3. 公司在其中受到的影響：\\n   由於上訴人上訴不合法，因此三芳化學工業股份有限公司不受影響。'"
      ]
     },
     "execution_count": 24,
     "metadata": {},
     "output_type": "execute_result"
    }
   ],
   "source": [
    "result.content"
   ]
  },
  {
   "cell_type": "markdown",
   "metadata": {},
   "source": [
    "## Data check"
   ]
  },
  {
   "cell_type": "code",
   "execution_count": 23,
   "metadata": {},
   "outputs": [],
   "source": [
    "query = \"\"\"\n",
    "SELECT *\n",
    "FROM judgement_result\n",
    "WHERE judgement_no = '臺灣桃園地方法院 112 年度訴字第 2129 號民事裁定'\n",
    "ORDER BY autoid\n",
    "\"\"\"\n",
    "df_test = sql_agent.read_table(query=query)"
   ]
  },
  {
   "cell_type": "code",
   "execution_count": 29,
   "metadata": {},
   "outputs": [],
   "source": [
    "df_test_2 = df_test.drop(['creation_dt','update_dt', 'autoid'], axis=1)"
   ]
  },
  {
   "cell_type": "code",
   "execution_count": 35,
   "metadata": {},
   "outputs": [
    {
     "name": "stdout",
     "output_type": "stream",
     "text": [
      "去重複前資料筆數:10\n",
      "去重複後資料筆數:5\n"
     ]
    }
   ],
   "source": [
    "print(f'去重複前資料筆數:{df_test.shape[0]}')\n",
    "print(f'去重複後資料筆數:{df_test_2.drop_duplicates().shape[0]}')"
   ]
  },
  {
   "cell_type": "code",
   "execution_count": 30,
   "metadata": {},
   "outputs": [
    {
     "data": {
      "text/html": [
       "<div>\n",
       "<style scoped>\n",
       "    .dataframe tbody tr th:only-of-type {\n",
       "        vertical-align: middle;\n",
       "    }\n",
       "\n",
       "    .dataframe tbody tr th {\n",
       "        vertical-align: top;\n",
       "    }\n",
       "\n",
       "    .dataframe thead th {\n",
       "        text-align: right;\n",
       "    }\n",
       "</style>\n",
       "<table border=\"1\" class=\"dataframe\">\n",
       "  <thead>\n",
       "    <tr style=\"text-align: right;\">\n",
       "      <th></th>\n",
       "      <th>business_accounting_no</th>\n",
       "      <th>companyname</th>\n",
       "      <th>judgement_class</th>\n",
       "      <th>judgement_date</th>\n",
       "      <th>judgement_no</th>\n",
       "      <th>querykey</th>\n",
       "      <th>subjectkey</th>\n",
       "      <th>judgement_text01</th>\n",
       "      <th>judgement_hyperlink</th>\n",
       "      <th>datasource_num_id</th>\n",
       "    </tr>\n",
       "  </thead>\n",
       "  <tbody>\n",
       "    <tr>\n",
       "      <th>0</th>\n",
       "      <td>04226091</td>\n",
       "      <td>台燿科技股份有限公司</td>\n",
       "      <td>判決書</td>\n",
       "      <td>2023-12-07</td>\n",
       "      <td>臺灣桃園地方法院 112 年度訴字第 2129 號民事裁定</td>\n",
       "      <td>給付貨款</td>\n",
       "      <td>給付貨款</td>\n",
       "      <td></td>\n",
       "      <td>https://judgment.judicial.gov.tw/FJUD/data.asp...</td>\n",
       "      <td>26</td>\n",
       "    </tr>\n",
       "    <tr>\n",
       "      <th>1</th>\n",
       "      <td>04226091</td>\n",
       "      <td>台燿科技股份有限公司</td>\n",
       "      <td>判決書</td>\n",
       "      <td>2023-11-16</td>\n",
       "      <td>臺灣桃園地方法院 112 年度訴字第 2129 號民事裁定</td>\n",
       "      <td>給付貨款</td>\n",
       "      <td>給付貨款</td>\n",
       "      <td></td>\n",
       "      <td>https://judgment.judicial.gov.tw/FJUD/data.asp...</td>\n",
       "      <td>26</td>\n",
       "    </tr>\n",
       "    <tr>\n",
       "      <th>2</th>\n",
       "      <td>04226091</td>\n",
       "      <td>台燿科技股份有限公司</td>\n",
       "      <td>判決書</td>\n",
       "      <td>2023-10-26</td>\n",
       "      <td>臺灣桃園地方法院 112 年度訴字第 2129 號民事裁定</td>\n",
       "      <td>給付貨款</td>\n",
       "      <td>給付貨款</td>\n",
       "      <td></td>\n",
       "      <td>https://judgment.judicial.gov.tw/FJUD/data.asp...</td>\n",
       "      <td>26</td>\n",
       "    </tr>\n",
       "    <tr>\n",
       "      <th>3</th>\n",
       "      <td>04226091</td>\n",
       "      <td>台燿科技股份有限公司</td>\n",
       "      <td>判決書</td>\n",
       "      <td>2023-11-16</td>\n",
       "      <td>臺灣桃園地方法院 112 年度訴字第 2129 號民事裁定</td>\n",
       "      <td>支付命令</td>\n",
       "      <td>給付貨款</td>\n",
       "      <td></td>\n",
       "      <td>https://judgment.judicial.gov.tw/FJUD/data.asp...</td>\n",
       "      <td>26</td>\n",
       "    </tr>\n",
       "    <tr>\n",
       "      <th>4</th>\n",
       "      <td>04226091</td>\n",
       "      <td>台燿科技股份有限公司</td>\n",
       "      <td>判決書</td>\n",
       "      <td>2023-10-26</td>\n",
       "      <td>臺灣桃園地方法院 112 年度訴字第 2129 號民事裁定</td>\n",
       "      <td>支付命令</td>\n",
       "      <td>給付貨款</td>\n",
       "      <td></td>\n",
       "      <td>https://judgment.judicial.gov.tw/FJUD/data.asp...</td>\n",
       "      <td>26</td>\n",
       "    </tr>\n",
       "  </tbody>\n",
       "</table>\n",
       "</div>"
      ],
      "text/plain": [
       "  business_accounting_no  ... datasource_num_id\n",
       "0               04226091  ...                26\n",
       "1               04226091  ...                26\n",
       "2               04226091  ...                26\n",
       "3               04226091  ...                26\n",
       "4               04226091  ...                26\n",
       "\n",
       "[5 rows x 10 columns]"
      ]
     },
     "execution_count": 30,
     "metadata": {},
     "output_type": "execute_result"
    }
   ],
   "source": [
    "df_test_2.drop_duplicates()"
   ]
  }
 ],
 "metadata": {
  "kernelspec": {
   "display_name": "credit_invest",
   "language": "python",
   "name": "python3"
  },
  "language_info": {
   "codemirror_mode": {
    "name": "ipython",
    "version": 3
   },
   "file_extension": ".py",
   "mimetype": "text/x-python",
   "name": "python",
   "nbconvert_exporter": "python",
   "pygments_lexer": "ipython3",
   "version": "3.10.14"
  }
 },
 "nbformat": 4,
 "nbformat_minor": 2
}
