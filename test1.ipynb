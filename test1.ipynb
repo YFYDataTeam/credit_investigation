{
 "cells": [
  {
   "cell_type": "code",
   "execution_count": 70,
   "metadata": {},
   "outputs": [],
   "source": [
    "import pandas as pd\n",
    "from backend.src.utils import MySQLAgent, OracleAgent\n",
    "# from src.plot_tools import cat_value_count_bar_plot, num_value_count_bar_plot\n",
    "import json\n",
    "from datetime import datetime\n",
    "\n",
    "import matplotlib.pyplot as plt\n",
    "\n",
    "plt.rcParams['font.sans-serif'] = ['Microsoft JhengHei'] \n",
    "plt.rcParams['axes.unicode_minus'] = False"
   ]
  },
  {
   "cell_type": "markdown",
   "metadata": {},
   "source": [
    "### Helper functions"
   ]
  },
  {
   "cell_type": "code",
   "execution_count": 71,
   "metadata": {},
   "outputs": [],
   "source": [
    "def cat_value_count_bar_plot(df, column, color, title, xlabel, y_label):\n",
    "    # Calculate the distribution of 'is_improve'\n",
    "    distribution = df[column].value_counts()\n",
    "\n",
    "    # Create a bar plot\n",
    "    plt.figure(figsize=(6, 4))\n",
    "    bars = distribution.plot(kind='bar', color=color)\n",
    "\n",
    "    # Add annotations to each bar\n",
    "    for i, count in enumerate(distribution):\n",
    "        plt.text(i, count + 0.1, str(count), ha='center')\n",
    "\n",
    "    plt.title(title)\n",
    "    plt.xlabel(xlabel)\n",
    "    plt.ylabel(y_label)\n",
    "    plt.xticks(rotation=0)\n",
    "    plt.grid(axis='y', linestyle='--', alpha=0.9)\n",
    "    plt.tight_layout()\n",
    "    plt.show()\n"
   ]
  },
  {
   "cell_type": "code",
   "execution_count": 72,
   "metadata": {},
   "outputs": [],
   "source": [
    "def num_value_count_bar_plot(df, column, color, title, xlabel, ylabel):\n",
    "    df[column] = df[column].astype('int')\n",
    "    distribution = df[column].sort_values().value_counts(sort=False)  # Sort the values by index\n",
    "\n",
    "    # Create a bar plot\n",
    "    plt.figure(figsize=(6, 4))  # Adjust figure size as needed\n",
    "    bars = distribution.plot(kind='bar', color=color)\n",
    "\n",
    "    # Add annotations to each bar\n",
    "    for i, count in enumerate(distribution):\n",
    "        plt.text(i, count + 0.1, str(count), ha='center')\n",
    "\n",
    "    plt.title(title)\n",
    "    plt.xlabel(xlabel)\n",
    "    plt.ylabel(ylabel)\n",
    "    plt.xticks(rotation=45)  # Rotate x-axis labels for better visibility\n",
    "    plt.grid(axis='y', linestyle='--', alpha=0.9)\n",
    "    plt.tight_layout()\n",
    "    plt.show()"
   ]
  },
  {
   "cell_type": "code",
   "execution_count": 73,
   "metadata": {},
   "outputs": [],
   "source": [
    "def read_config(path):\n",
    "    try:\n",
    "        with open(path, 'r') as file:\n",
    "            configs = json.load(file)\n",
    "\n",
    "        return configs\n",
    "    except FileNotFoundError:\n",
    "        print(f\"The file {path} was not found.\")\n",
    "    except json.JSONDecodeError:\n",
    "        print(f\"Error decoding JSON from the file {path}.\")"
   ]
  },
  {
   "cell_type": "code",
   "execution_count": 74,
   "metadata": {},
   "outputs": [],
   "source": [
    "configs = read_config(path=\"./backend/conn/connections.json\")\n",
    "job_configs = configs[\"CREDITREPORT\"]['VM1_mysql_conn_info']\n",
    "sql_agent = MySQLAgent(job_configs)"
   ]
  },
  {
   "cell_type": "code",
   "execution_count": 75,
   "metadata": {},
   "outputs": [
    {
     "data": {
      "text/html": [
       "<div>\n",
       "<style scoped>\n",
       "    .dataframe tbody tr th:only-of-type {\n",
       "        vertical-align: middle;\n",
       "    }\n",
       "\n",
       "    .dataframe tbody tr th {\n",
       "        vertical-align: top;\n",
       "    }\n",
       "\n",
       "    .dataframe thead th {\n",
       "        text-align: right;\n",
       "    }\n",
       "</style>\n",
       "<table border=\"1\" class=\"dataframe\">\n",
       "  <thead>\n",
       "    <tr style=\"text-align: right;\">\n",
       "      <th></th>\n",
       "      <th>business_accounting_no</th>\n",
       "      <th>company_name</th>\n",
       "      <th>internal_id</th>\n",
       "      <th>query_name</th>\n",
       "    </tr>\n",
       "  </thead>\n",
       "  <tbody>\n",
       "    <tr>\n",
       "      <th>0</th>\n",
       "      <td>00700019</td>\n",
       "      <td>國昌綜合工廠有限公司</td>\n",
       "      <td>K7913</td>\n",
       "      <td>None</td>\n",
       "    </tr>\n",
       "    <tr>\n",
       "      <th>1</th>\n",
       "      <td>00713181</td>\n",
       "      <td>華聯食品工業股份有限公司</td>\n",
       "      <td>J5984</td>\n",
       "      <td>None</td>\n",
       "    </tr>\n",
       "    <tr>\n",
       "      <th>2</th>\n",
       "      <td>00784930</td>\n",
       "      <td>建寶食品股份有限公司</td>\n",
       "      <td>K4395</td>\n",
       "      <td>None</td>\n",
       "    </tr>\n",
       "    <tr>\n",
       "      <th>3</th>\n",
       "      <td>00966299</td>\n",
       "      <td>財團法人台北市瑠公農業產銷基金會</td>\n",
       "      <td>K9232</td>\n",
       "      <td>None</td>\n",
       "    </tr>\n",
       "    <tr>\n",
       "      <th>4</th>\n",
       "      <td>01055919</td>\n",
       "      <td>新光醫療財團法人</td>\n",
       "      <td>K1282</td>\n",
       "      <td>None</td>\n",
       "    </tr>\n",
       "  </tbody>\n",
       "</table>\n",
       "</div>"
      ],
      "text/plain": [
       "  business_accounting_no      company_name internal_id query_name\n",
       "0               00700019        國昌綜合工廠有限公司       K7913       None\n",
       "1               00713181      華聯食品工業股份有限公司       J5984       None\n",
       "2               00784930        建寶食品股份有限公司       K4395       None\n",
       "3               00966299  財團法人台北市瑠公農業產銷基金會       K9232       None\n",
       "4               01055919          新光醫療財團法人       K1282       None"
      ]
     },
     "execution_count": 75,
     "metadata": {},
     "output_type": "execute_result"
    }
   ],
   "source": [
    "query = \"\"\"\n",
    "    select * from company\n",
    "\"\"\"\n",
    "df_company = sql_agent.read_table(query=query)\n",
    "df_company.head()"
   ]
  },
  {
   "cell_type": "code",
   "execution_count": 76,
   "metadata": {},
   "outputs": [
    {
     "data": {
      "text/plain": [
       "'27450696'"
      ]
     },
     "execution_count": 76,
     "metadata": {},
     "output_type": "execute_result"
    }
   ],
   "source": [
    "i = 0\n",
    "# company = df_company.iloc[i]\n",
    "company = df_company[df_company['business_accounting_no'] == '27450696']\n",
    "company_account = company.business_accounting_no.values[0]\n",
    "company_name = company.company_name.values[0]\n",
    "internal_id = company.internal_id.values[0]\n",
    "company_account"
   ]
  },
  {
   "cell_type": "code",
   "execution_count": 77,
   "metadata": {},
   "outputs": [
    {
     "data": {
      "text/html": [
       "<div>\n",
       "<style scoped>\n",
       "    .dataframe tbody tr th:only-of-type {\n",
       "        vertical-align: middle;\n",
       "    }\n",
       "\n",
       "    .dataframe tbody tr th {\n",
       "        vertical-align: top;\n",
       "    }\n",
       "\n",
       "    .dataframe thead th {\n",
       "        text-align: right;\n",
       "    }\n",
       "</style>\n",
       "<table border=\"1\" class=\"dataframe\">\n",
       "  <thead>\n",
       "    <tr style=\"text-align: right;\">\n",
       "      <th></th>\n",
       "      <th>business_accounting_no</th>\n",
       "      <th>company_name</th>\n",
       "      <th>internal_id</th>\n",
       "      <th>query_name</th>\n",
       "    </tr>\n",
       "  </thead>\n",
       "  <tbody>\n",
       "    <tr>\n",
       "      <th>3454</th>\n",
       "      <td>27450696</td>\n",
       "      <td>日月千禧酒店股份有限公司</td>\n",
       "      <td>K3844</td>\n",
       "      <td>None</td>\n",
       "    </tr>\n",
       "  </tbody>\n",
       "</table>\n",
       "</div>"
      ],
      "text/plain": [
       "     business_accounting_no  company_name internal_id query_name\n",
       "3454               27450696  日月千禧酒店股份有限公司       K3844       None"
      ]
     },
     "execution_count": 77,
     "metadata": {},
     "output_type": "execute_result"
    }
   ],
   "source": [
    "company"
   ]
  },
  {
   "cell_type": "markdown",
   "metadata": {},
   "source": [
    "#### companyinfo01\n",
    "\n",
    "- 企業狀態\n",
    "- 地址關聯\n",
    "- 資本額(Captial_Stock_Amount)\n",
    "- 最近更新日期"
   ]
  },
  {
   "cell_type": "code",
   "execution_count": 78,
   "metadata": {},
   "outputs": [],
   "source": [
    "try:\n",
    "    query = f\"\"\"\n",
    "        select * from companyinfo01\n",
    "        where Business_Accounting_No = {company_account}\n",
    "    \"\"\"\n",
    "    companyinfo01 = sql_agent.read_table(query=query)\n",
    "    companyinfo01.head()\n",
    "except Exception as e:\n",
    "    print(\"An error occurred:\", e)\n"
   ]
  },
  {
   "cell_type": "code",
   "execution_count": 79,
   "metadata": {},
   "outputs": [
    {
     "data": {
      "text/html": [
       "<div>\n",
       "<style scoped>\n",
       "    .dataframe tbody tr th:only-of-type {\n",
       "        vertical-align: middle;\n",
       "    }\n",
       "\n",
       "    .dataframe tbody tr th {\n",
       "        vertical-align: top;\n",
       "    }\n",
       "\n",
       "    .dataframe thead th {\n",
       "        text-align: right;\n",
       "    }\n",
       "</style>\n",
       "<table border=\"1\" class=\"dataframe\">\n",
       "  <thead>\n",
       "    <tr style=\"text-align: right;\">\n",
       "      <th></th>\n",
       "      <th>business_accounting_no</th>\n",
       "      <th>company_status_desc</th>\n",
       "      <th>company_name</th>\n",
       "      <th>capital_stock_amount</th>\n",
       "      <th>paid_in_capital_amount</th>\n",
       "      <th>responsible_name</th>\n",
       "      <th>company_location</th>\n",
       "      <th>register_organization_desc</th>\n",
       "      <th>company_setup_date</th>\n",
       "      <th>change_of_approval_data</th>\n",
       "      <th>revoke_app_date</th>\n",
       "      <th>case_status</th>\n",
       "      <th>case_status_desc</th>\n",
       "      <th>sus_app_date</th>\n",
       "      <th>sus_beg_date</th>\n",
       "      <th>sus_end_date</th>\n",
       "      <th>createtime</th>\n",
       "      <th>updatetime</th>\n",
       "    </tr>\n",
       "  </thead>\n",
       "  <tbody>\n",
       "    <tr>\n",
       "      <th>0</th>\n",
       "      <td>27450696</td>\n",
       "      <td>核准設立</td>\n",
       "      <td>日月千禧酒店股份有限公司</td>\n",
       "      <td>800000000</td>\n",
       "      <td>700000000</td>\n",
       "      <td>張重興</td>\n",
       "      <td>臺中市西屯區市政路77號</td>\n",
       "      <td>經濟部商業司</td>\n",
       "      <td>0930923</td>\n",
       "      <td>1110428</td>\n",
       "      <td></td>\n",
       "      <td></td>\n",
       "      <td></td>\n",
       "      <td></td>\n",
       "      <td></td>\n",
       "      <td></td>\n",
       "      <td>2024-01-29 06:57:38</td>\n",
       "      <td>2024-03-08 20:02:34</td>\n",
       "    </tr>\n",
       "  </tbody>\n",
       "</table>\n",
       "</div>"
      ],
      "text/plain": [
       "  business_accounting_no company_status_desc  company_name  \\\n",
       "0               27450696                核准設立  日月千禧酒店股份有限公司   \n",
       "\n",
       "   capital_stock_amount  paid_in_capital_amount responsible_name  \\\n",
       "0             800000000               700000000              張重興   \n",
       "\n",
       "  company_location register_organization_desc company_setup_date  \\\n",
       "0     臺中市西屯區市政路77號                     經濟部商業司            0930923   \n",
       "\n",
       "  change_of_approval_data revoke_app_date case_status case_status_desc  \\\n",
       "0                 1110428                                                \n",
       "\n",
       "  sus_app_date sus_beg_date sus_end_date          createtime  \\\n",
       "0                                        2024-01-29 06:57:38   \n",
       "\n",
       "           updatetime  \n",
       "0 2024-03-08 20:02:34  "
      ]
     },
     "execution_count": 79,
     "metadata": {},
     "output_type": "execute_result"
    }
   ],
   "source": [
    "companyinfo01"
   ]
  },
  {
   "cell_type": "code",
   "execution_count": 80,
   "metadata": {},
   "outputs": [],
   "source": [
    "# 公司狀態\n",
    "company_status = companyinfo01['company_status_desc'].values[0]\n",
    "\n",
    "# 地址關聯 - neo4j\n",
    "\n",
    "# 資本額\n",
    "company_captial = companyinfo01['capital_stock_amount'].values[0]"
   ]
  },
  {
   "cell_type": "markdown",
   "metadata": {},
   "source": [
    "#### EPA"
   ]
  },
  {
   "cell_type": "code",
   "execution_count": 81,
   "metadata": {},
   "outputs": [
    {
     "data": {
      "text/html": [
       "<div>\n",
       "<style scoped>\n",
       "    .dataframe tbody tr th:only-of-type {\n",
       "        vertical-align: middle;\n",
       "    }\n",
       "\n",
       "    .dataframe tbody tr th {\n",
       "        vertical-align: top;\n",
       "    }\n",
       "\n",
       "    .dataframe thead th {\n",
       "        text-align: right;\n",
       "    }\n",
       "</style>\n",
       "<table border=\"1\" class=\"dataframe\">\n",
       "  <thead>\n",
       "    <tr style=\"text-align: right;\">\n",
       "      <th></th>\n",
       "      <th>business_accounting_no</th>\n",
       "      <th>ems_no</th>\n",
       "      <th>fac_name</th>\n",
       "      <th>county_name</th>\n",
       "      <th>document_no</th>\n",
       "      <th>transgress_date</th>\n",
       "      <th>transgress_law</th>\n",
       "      <th>penalty_money</th>\n",
       "      <th>penalty_date</th>\n",
       "      <th>ispetition</th>\n",
       "      <th>...</th>\n",
       "      <th>is_improve</th>\n",
       "      <th>inspection_datetime_s</th>\n",
       "      <th>penaltykind</th>\n",
       "      <th>isimportant</th>\n",
       "      <th>paymentstate</th>\n",
       "      <th>isreminder</th>\n",
       "      <th>isadmincourt</th>\n",
       "      <th>isreducemoney</th>\n",
       "      <th>createtime</th>\n",
       "      <th>updatetime</th>\n",
       "    </tr>\n",
       "  </thead>\n",
       "  <tbody>\n",
       "    <tr>\n",
       "      <th>0</th>\n",
       "      <td>27450696</td>\n",
       "      <td>B23A9786</td>\n",
       "      <td>日月千禧酒店股份有限公司</td>\n",
       "      <td>臺中市</td>\n",
       "      <td>10-101-110001</td>\n",
       "      <td>2012-08-28</td>\n",
       "      <td>環境影響評估法第17條</td>\n",
       "      <td>300000</td>\n",
       "      <td>2012-11-16</td>\n",
       "      <td>0</td>\n",
       "      <td>...</td>\n",
       "      <td>不須改善</td>\n",
       "      <td></td>\n",
       "      <td>罰鍰(非連續處罰)</td>\n",
       "      <td></td>\n",
       "      <td>無分期已繳清</td>\n",
       "      <td>否</td>\n",
       "      <td>否</td>\n",
       "      <td></td>\n",
       "      <td>2024-01-29 14:32:28</td>\n",
       "      <td>2024-03-08 13:27:17</td>\n",
       "    </tr>\n",
       "    <tr>\n",
       "      <th>1</th>\n",
       "      <td>27450696</td>\n",
       "      <td>B23A9786</td>\n",
       "      <td>日月千禧酒店股份有限公司</td>\n",
       "      <td>臺中市</td>\n",
       "      <td>10-107-010001</td>\n",
       "      <td>2017-11-10</td>\n",
       "      <td>環境影響評估法第17條</td>\n",
       "      <td>300000</td>\n",
       "      <td>2018-01-02</td>\n",
       "      <td>0</td>\n",
       "      <td>...</td>\n",
       "      <td>不須改善</td>\n",
       "      <td></td>\n",
       "      <td>罰鍰(非連續處罰)</td>\n",
       "      <td></td>\n",
       "      <td>無分期已繳清</td>\n",
       "      <td>否</td>\n",
       "      <td>否</td>\n",
       "      <td></td>\n",
       "      <td>2024-01-29 14:32:28</td>\n",
       "      <td>2024-03-08 13:27:17</td>\n",
       "    </tr>\n",
       "    <tr>\n",
       "      <th>2</th>\n",
       "      <td>27450696</td>\n",
       "      <td>B23A9786</td>\n",
       "      <td>日月千禧酒店股份有限公司</td>\n",
       "      <td>臺中市</td>\n",
       "      <td>20-102-060013</td>\n",
       "      <td>2013-05-14</td>\n",
       "      <td>空氣污染防制法第20條第1款</td>\n",
       "      <td>100000</td>\n",
       "      <td>2013-06-17</td>\n",
       "      <td>0</td>\n",
       "      <td>...</td>\n",
       "      <td>已改善完成</td>\n",
       "      <td></td>\n",
       "      <td>限期改善</td>\n",
       "      <td></td>\n",
       "      <td>無分期已繳清</td>\n",
       "      <td>否</td>\n",
       "      <td>否</td>\n",
       "      <td></td>\n",
       "      <td>2024-01-29 14:32:28</td>\n",
       "      <td>2024-03-08 13:27:17</td>\n",
       "    </tr>\n",
       "    <tr>\n",
       "      <th>3</th>\n",
       "      <td>27450696</td>\n",
       "      <td>B23A9786</td>\n",
       "      <td>日月千禧酒店股份有限公司</td>\n",
       "      <td>臺中市</td>\n",
       "      <td>20-102-110014</td>\n",
       "      <td>2013-09-16</td>\n",
       "      <td>空氣污染防制法第20條第1項</td>\n",
       "      <td>200000</td>\n",
       "      <td>2013-11-11</td>\n",
       "      <td>0</td>\n",
       "      <td>...</td>\n",
       "      <td>已改善完成</td>\n",
       "      <td></td>\n",
       "      <td>限期改善</td>\n",
       "      <td></td>\n",
       "      <td>無分期已繳清</td>\n",
       "      <td>否</td>\n",
       "      <td>否</td>\n",
       "      <td></td>\n",
       "      <td>2024-01-29 14:32:28</td>\n",
       "      <td>2024-03-08 13:27:17</td>\n",
       "    </tr>\n",
       "    <tr>\n",
       "      <th>4</th>\n",
       "      <td>27450696</td>\n",
       "      <td>B23A9786</td>\n",
       "      <td>日月千禧酒店股份有限公司</td>\n",
       "      <td>臺中市</td>\n",
       "      <td>41-101-100702</td>\n",
       "      <td>2012-08-15</td>\n",
       "      <td>廢棄物清理法第27條第2款</td>\n",
       "      <td>4500</td>\n",
       "      <td>2012-10-11</td>\n",
       "      <td>0</td>\n",
       "      <td>...</td>\n",
       "      <td>已改善完成</td>\n",
       "      <td></td>\n",
       "      <td>罰鍰(非連續處罰)</td>\n",
       "      <td></td>\n",
       "      <td>無分期已繳清</td>\n",
       "      <td>否</td>\n",
       "      <td>否</td>\n",
       "      <td></td>\n",
       "      <td>2024-01-29 14:32:28</td>\n",
       "      <td>2024-03-08 13:27:17</td>\n",
       "    </tr>\n",
       "  </tbody>\n",
       "</table>\n",
       "<p>5 rows × 37 columns</p>\n",
       "</div>"
      ],
      "text/plain": [
       "  business_accounting_no    ems_no      fac_name county_name    document_no  \\\n",
       "0               27450696  B23A9786  日月千禧酒店股份有限公司         臺中市  10-101-110001   \n",
       "1               27450696  B23A9786  日月千禧酒店股份有限公司         臺中市  10-107-010001   \n",
       "2               27450696  B23A9786  日月千禧酒店股份有限公司         臺中市  20-102-060013   \n",
       "3               27450696  B23A9786  日月千禧酒店股份有限公司         臺中市  20-102-110014   \n",
       "4               27450696  B23A9786  日月千禧酒店股份有限公司         臺中市  41-101-100702   \n",
       "\n",
       "  transgress_date  transgress_law penalty_money penalty_date ispetition  ...  \\\n",
       "0      2012-08-28     環境影響評估法第17條        300000   2012-11-16          0  ...   \n",
       "1      2017-11-10     環境影響評估法第17條        300000   2018-01-02          0  ...   \n",
       "2      2013-05-14  空氣污染防制法第20條第1款        100000   2013-06-17          0  ...   \n",
       "3      2013-09-16  空氣污染防制法第20條第1項        200000   2013-11-11          0  ...   \n",
       "4      2012-08-15   廢棄物清理法第27條第2款          4500   2012-10-11          0  ...   \n",
       "\n",
       "  is_improve inspection_datetime_s penaltykind isimportant paymentstate  \\\n",
       "0       不須改善                         罰鍰(非連續處罰)                   無分期已繳清   \n",
       "1       不須改善                         罰鍰(非連續處罰)                   無分期已繳清   \n",
       "2      已改善完成                              限期改善                   無分期已繳清   \n",
       "3      已改善完成                              限期改善                   無分期已繳清   \n",
       "4      已改善完成                         罰鍰(非連續處罰)                   無分期已繳清   \n",
       "\n",
       "  isreminder isadmincourt isreducemoney          createtime  \\\n",
       "0          否            否               2024-01-29 14:32:28   \n",
       "1          否            否               2024-01-29 14:32:28   \n",
       "2          否            否               2024-01-29 14:32:28   \n",
       "3          否            否               2024-01-29 14:32:28   \n",
       "4          否            否               2024-01-29 14:32:28   \n",
       "\n",
       "           updatetime  \n",
       "0 2024-03-08 13:27:17  \n",
       "1 2024-03-08 13:27:17  \n",
       "2 2024-03-08 13:27:17  \n",
       "3 2024-03-08 13:27:17  \n",
       "4 2024-03-08 13:27:17  \n",
       "\n",
       "[5 rows x 37 columns]"
      ]
     },
     "execution_count": 81,
     "metadata": {},
     "output_type": "execute_result"
    }
   ],
   "source": [
    "query = f\"\"\"\n",
    "select * from epa_ems_p_46\n",
    "where Business_Accounting_No = {company_account}\n",
    "\"\"\"\n",
    "df_epa = sql_agent.read_table(query=query)\n",
    "df_epa.columns = df_epa.columns.str.lower()\n",
    "df_epa.head()"
   ]
  },
  {
   "cell_type": "code",
   "execution_count": 82,
   "metadata": {},
   "outputs": [],
   "source": [
    "if df_epa.size == 0:\n",
    "    print(f'{company_name} 沒有環保署裁處紀錄。')"
   ]
  },
  {
   "cell_type": "code",
   "execution_count": 83,
   "metadata": {},
   "outputs": [
    {
     "data": {
      "text/html": [
       "<div>\n",
       "<style scoped>\n",
       "    .dataframe tbody tr th:only-of-type {\n",
       "        vertical-align: middle;\n",
       "    }\n",
       "\n",
       "    .dataframe tbody tr th {\n",
       "        vertical-align: top;\n",
       "    }\n",
       "\n",
       "    .dataframe thead th {\n",
       "        text-align: right;\n",
       "    }\n",
       "</style>\n",
       "<table border=\"1\" class=\"dataframe\">\n",
       "  <thead>\n",
       "    <tr style=\"text-align: right;\">\n",
       "      <th></th>\n",
       "      <th>document_no</th>\n",
       "      <th>is_improve</th>\n",
       "    </tr>\n",
       "  </thead>\n",
       "  <tbody>\n",
       "    <tr>\n",
       "      <th>0</th>\n",
       "      <td>10-101-110001</td>\n",
       "      <td>不須改善</td>\n",
       "    </tr>\n",
       "    <tr>\n",
       "      <th>1</th>\n",
       "      <td>10-107-010001</td>\n",
       "      <td>不須改善</td>\n",
       "    </tr>\n",
       "    <tr>\n",
       "      <th>2</th>\n",
       "      <td>20-102-060013</td>\n",
       "      <td>已改善完成</td>\n",
       "    </tr>\n",
       "    <tr>\n",
       "      <th>3</th>\n",
       "      <td>20-102-110014</td>\n",
       "      <td>已改善完成</td>\n",
       "    </tr>\n",
       "    <tr>\n",
       "      <th>4</th>\n",
       "      <td>41-101-100702</td>\n",
       "      <td>已改善完成</td>\n",
       "    </tr>\n",
       "  </tbody>\n",
       "</table>\n",
       "</div>"
      ],
      "text/plain": [
       "     document_no is_improve\n",
       "0  10-101-110001       不須改善\n",
       "1  10-107-010001       不須改善\n",
       "2  20-102-060013      已改善完成\n",
       "3  20-102-110014      已改善完成\n",
       "4  41-101-100702      已改善完成"
      ]
     },
     "execution_count": 83,
     "metadata": {},
     "output_type": "execute_result"
    }
   ],
   "source": [
    "df_epa[['document_no', 'is_improve']]"
   ]
  },
  {
   "cell_type": "code",
   "execution_count": 84,
   "metadata": {},
   "outputs": [
    {
     "data": {
      "text/html": [
       "<div>\n",
       "<style scoped>\n",
       "    .dataframe tbody tr th:only-of-type {\n",
       "        vertical-align: middle;\n",
       "    }\n",
       "\n",
       "    .dataframe tbody tr th {\n",
       "        vertical-align: top;\n",
       "    }\n",
       "\n",
       "    .dataframe thead th {\n",
       "        text-align: right;\n",
       "    }\n",
       "</style>\n",
       "<table border=\"1\" class=\"dataframe\">\n",
       "  <thead>\n",
       "    <tr style=\"text-align: right;\">\n",
       "      <th></th>\n",
       "      <th>business_accounting_no</th>\n",
       "      <th>ems_no</th>\n",
       "      <th>fac_name</th>\n",
       "      <th>county_name</th>\n",
       "      <th>document_no</th>\n",
       "      <th>transgress_date</th>\n",
       "      <th>transgress_law</th>\n",
       "      <th>penalty_money</th>\n",
       "      <th>penalty_date</th>\n",
       "      <th>ispetition</th>\n",
       "      <th>...</th>\n",
       "      <th>is_improve</th>\n",
       "      <th>inspection_datetime_s</th>\n",
       "      <th>penaltykind</th>\n",
       "      <th>isimportant</th>\n",
       "      <th>paymentstate</th>\n",
       "      <th>isreminder</th>\n",
       "      <th>isadmincourt</th>\n",
       "      <th>isreducemoney</th>\n",
       "      <th>createtime</th>\n",
       "      <th>updatetime</th>\n",
       "    </tr>\n",
       "  </thead>\n",
       "  <tbody>\n",
       "    <tr>\n",
       "      <th>4</th>\n",
       "      <td>27450696</td>\n",
       "      <td>B23A9786</td>\n",
       "      <td>日月千禧酒店股份有限公司</td>\n",
       "      <td>臺中市</td>\n",
       "      <td>41-101-100702</td>\n",
       "      <td>2012-08-15</td>\n",
       "      <td>廢棄物清理法第27條第2款</td>\n",
       "      <td>4500</td>\n",
       "      <td>2012-10-11</td>\n",
       "      <td>0</td>\n",
       "      <td>...</td>\n",
       "      <td>已改善完成</td>\n",
       "      <td></td>\n",
       "      <td>罰鍰(非連續處罰)</td>\n",
       "      <td></td>\n",
       "      <td>無分期已繳清</td>\n",
       "      <td>否</td>\n",
       "      <td>否</td>\n",
       "      <td></td>\n",
       "      <td>2024-01-29 14:32:28</td>\n",
       "      <td>2024-03-08 13:27:17</td>\n",
       "    </tr>\n",
       "    <tr>\n",
       "      <th>0</th>\n",
       "      <td>27450696</td>\n",
       "      <td>B23A9786</td>\n",
       "      <td>日月千禧酒店股份有限公司</td>\n",
       "      <td>臺中市</td>\n",
       "      <td>10-101-110001</td>\n",
       "      <td>2012-08-28</td>\n",
       "      <td>環境影響評估法第17條</td>\n",
       "      <td>300000</td>\n",
       "      <td>2012-11-16</td>\n",
       "      <td>0</td>\n",
       "      <td>...</td>\n",
       "      <td>不須改善</td>\n",
       "      <td></td>\n",
       "      <td>罰鍰(非連續處罰)</td>\n",
       "      <td></td>\n",
       "      <td>無分期已繳清</td>\n",
       "      <td>否</td>\n",
       "      <td>否</td>\n",
       "      <td></td>\n",
       "      <td>2024-01-29 14:32:28</td>\n",
       "      <td>2024-03-08 13:27:17</td>\n",
       "    </tr>\n",
       "    <tr>\n",
       "      <th>2</th>\n",
       "      <td>27450696</td>\n",
       "      <td>B23A9786</td>\n",
       "      <td>日月千禧酒店股份有限公司</td>\n",
       "      <td>臺中市</td>\n",
       "      <td>20-102-060013</td>\n",
       "      <td>2013-05-14</td>\n",
       "      <td>空氣污染防制法第20條第1款</td>\n",
       "      <td>100000</td>\n",
       "      <td>2013-06-17</td>\n",
       "      <td>0</td>\n",
       "      <td>...</td>\n",
       "      <td>已改善完成</td>\n",
       "      <td></td>\n",
       "      <td>限期改善</td>\n",
       "      <td></td>\n",
       "      <td>無分期已繳清</td>\n",
       "      <td>否</td>\n",
       "      <td>否</td>\n",
       "      <td></td>\n",
       "      <td>2024-01-29 14:32:28</td>\n",
       "      <td>2024-03-08 13:27:17</td>\n",
       "    </tr>\n",
       "    <tr>\n",
       "      <th>3</th>\n",
       "      <td>27450696</td>\n",
       "      <td>B23A9786</td>\n",
       "      <td>日月千禧酒店股份有限公司</td>\n",
       "      <td>臺中市</td>\n",
       "      <td>20-102-110014</td>\n",
       "      <td>2013-09-16</td>\n",
       "      <td>空氣污染防制法第20條第1項</td>\n",
       "      <td>200000</td>\n",
       "      <td>2013-11-11</td>\n",
       "      <td>0</td>\n",
       "      <td>...</td>\n",
       "      <td>已改善完成</td>\n",
       "      <td></td>\n",
       "      <td>限期改善</td>\n",
       "      <td></td>\n",
       "      <td>無分期已繳清</td>\n",
       "      <td>否</td>\n",
       "      <td>否</td>\n",
       "      <td></td>\n",
       "      <td>2024-01-29 14:32:28</td>\n",
       "      <td>2024-03-08 13:27:17</td>\n",
       "    </tr>\n",
       "    <tr>\n",
       "      <th>1</th>\n",
       "      <td>27450696</td>\n",
       "      <td>B23A9786</td>\n",
       "      <td>日月千禧酒店股份有限公司</td>\n",
       "      <td>臺中市</td>\n",
       "      <td>10-107-010001</td>\n",
       "      <td>2017-11-10</td>\n",
       "      <td>環境影響評估法第17條</td>\n",
       "      <td>300000</td>\n",
       "      <td>2018-01-02</td>\n",
       "      <td>0</td>\n",
       "      <td>...</td>\n",
       "      <td>不須改善</td>\n",
       "      <td></td>\n",
       "      <td>罰鍰(非連續處罰)</td>\n",
       "      <td></td>\n",
       "      <td>無分期已繳清</td>\n",
       "      <td>否</td>\n",
       "      <td>否</td>\n",
       "      <td></td>\n",
       "      <td>2024-01-29 14:32:28</td>\n",
       "      <td>2024-03-08 13:27:17</td>\n",
       "    </tr>\n",
       "  </tbody>\n",
       "</table>\n",
       "<p>5 rows × 37 columns</p>\n",
       "</div>"
      ],
      "text/plain": [
       "  business_accounting_no    ems_no      fac_name county_name    document_no  \\\n",
       "4               27450696  B23A9786  日月千禧酒店股份有限公司         臺中市  41-101-100702   \n",
       "0               27450696  B23A9786  日月千禧酒店股份有限公司         臺中市  10-101-110001   \n",
       "2               27450696  B23A9786  日月千禧酒店股份有限公司         臺中市  20-102-060013   \n",
       "3               27450696  B23A9786  日月千禧酒店股份有限公司         臺中市  20-102-110014   \n",
       "1               27450696  B23A9786  日月千禧酒店股份有限公司         臺中市  10-107-010001   \n",
       "\n",
       "  transgress_date  transgress_law penalty_money penalty_date ispetition  ...  \\\n",
       "4      2012-08-15   廢棄物清理法第27條第2款          4500   2012-10-11          0  ...   \n",
       "0      2012-08-28     環境影響評估法第17條        300000   2012-11-16          0  ...   \n",
       "2      2013-05-14  空氣污染防制法第20條第1款        100000   2013-06-17          0  ...   \n",
       "3      2013-09-16  空氣污染防制法第20條第1項        200000   2013-11-11          0  ...   \n",
       "1      2017-11-10     環境影響評估法第17條        300000   2018-01-02          0  ...   \n",
       "\n",
       "  is_improve inspection_datetime_s penaltykind isimportant paymentstate  \\\n",
       "4      已改善完成                         罰鍰(非連續處罰)                   無分期已繳清   \n",
       "0       不須改善                         罰鍰(非連續處罰)                   無分期已繳清   \n",
       "2      已改善完成                              限期改善                   無分期已繳清   \n",
       "3      已改善完成                              限期改善                   無分期已繳清   \n",
       "1       不須改善                         罰鍰(非連續處罰)                   無分期已繳清   \n",
       "\n",
       "  isreminder isadmincourt isreducemoney          createtime  \\\n",
       "4          否            否               2024-01-29 14:32:28   \n",
       "0          否            否               2024-01-29 14:32:28   \n",
       "2          否            否               2024-01-29 14:32:28   \n",
       "3          否            否               2024-01-29 14:32:28   \n",
       "1          否            否               2024-01-29 14:32:28   \n",
       "\n",
       "           updatetime  \n",
       "4 2024-03-08 13:27:17  \n",
       "0 2024-03-08 13:27:17  \n",
       "2 2024-03-08 13:27:17  \n",
       "3 2024-03-08 13:27:17  \n",
       "1 2024-03-08 13:27:17  \n",
       "\n",
       "[5 rows x 37 columns]"
      ]
     },
     "execution_count": 84,
     "metadata": {},
     "output_type": "execute_result"
    }
   ],
   "source": [
    "df_epa.sort_values('penalty_date', ascending=True)"
   ]
  },
  {
   "cell_type": "code",
   "execution_count": 85,
   "metadata": {},
   "outputs": [],
   "source": [
    "# 共有幾筆紀錄\n",
    "row_count = df_epa.shape[0]\n",
    "\n",
    "# 最高裁處金額\n",
    "max_penalty_money = df_epa['penalty_money'].max()\n",
    "\n",
    "# 近期裁處金額\n",
    "df_epa['penalty_date'] = pd.to_datetime(df_epa['penalty_date'])\n",
    "latest_penalty_money = df_epa.loc[df_epa['penalty_date'] == df_epa['penalty_date'].max(), 'penalty_money'].values[0]\n"
   ]
  },
  {
   "cell_type": "code",
   "execution_count": 86,
   "metadata": {},
   "outputs": [],
   "source": [
    "# is_improve分布\n",
    "# cat_value_count_bar_plot(df_epa, 'is_improve', 'skyblue', '環保署裁處後的改善情況', '改善情況類別', '次數')"
   ]
  },
  {
   "cell_type": "code",
   "execution_count": 87,
   "metadata": {},
   "outputs": [],
   "source": [
    "# penaltykind分布\n",
    "# cat_value_count_bar_plot(df_epa, 'penaltykind', 'skyblue', '環保署裁處類別分布', '裁處類別', '次數')"
   ]
  },
  {
   "cell_type": "code",
   "execution_count": 88,
   "metadata": {},
   "outputs": [],
   "source": [
    "# 裁處金額分布\n",
    "# num_value_count_bar_plot(df_epa, 'penalty_money', 'skyblue', '環保署裁處金額分布', '裁處金額', '次數')"
   ]
  },
  {
   "cell_type": "markdown",
   "metadata": {},
   "source": [
    "### PST"
   ]
  },
  {
   "cell_type": "code",
   "execution_count": 89,
   "metadata": {},
   "outputs": [
    {
     "data": {
      "text/plain": [
       "{'user': 'ODS_USER1',\n",
       " 'pw': 'Yfy12345',\n",
       " 'host': 'yfybiappsdb.yfy.com',\n",
       " 'port': 1521,\n",
       " 'database': 'biprod'}"
      ]
     },
     "execution_count": 89,
     "metadata": {},
     "output_type": "execute_result"
    }
   ],
   "source": [
    "configs = read_config(path=\"./backend/conn/connections.json\")\n",
    "job_configs = configs[\"CREDITREPORT\"]['BIDB_conn_info']\n",
    "job_configs"
   ]
  },
  {
   "cell_type": "code",
   "execution_count": 90,
   "metadata": {},
   "outputs": [
    {
     "data": {
      "text/plain": [
       "'c:\\\\Users\\\\sean.chang\\\\yfy\\\\git\\\\credit_investigation'"
      ]
     },
     "execution_count": 90,
     "metadata": {},
     "output_type": "execute_result"
    }
   ],
   "source": [
    "import os\n",
    "os.getcwd()"
   ]
  },
  {
   "cell_type": "code",
   "execution_count": 91,
   "metadata": {},
   "outputs": [
    {
     "name": "stdout",
     "output_type": "stream",
     "text": [
      "The file ./conn/connections.json was not found.\n"
     ]
    }
   ],
   "source": [
    "configs = read_config(path=\"./conn/connections.json\")\n",
    "# job_configs = configs[\"CREDITREPORT\"]['BIDB_conn_info']\n",
    "oracle_agent = OracleAgent(job_configs)"
   ]
  },
  {
   "cell_type": "code",
   "execution_count": 131,
   "metadata": {},
   "outputs": [],
   "source": [
    "query = f\"\"\"\n",
    "select * from ODS.w_yfy_crd_pst_f\n",
    "where  debtor_accounting_no = '07568009'\n",
    "\"\"\"\n",
    "# where debtor_accounting_no = '{company_account}'\n",
    "df_pst = oracle_agent.read_table(query=query)\n",
    "df_pst['agreement_end_date'] = pd.to_datetime(df_pst['agreement_end_date'])"
   ]
  },
  {
   "cell_type": "code",
   "execution_count": 132,
   "metadata": {},
   "outputs": [],
   "source": [
    "df_pst_2 = df_pst[~df_pst['register_no'].isnull()]"
   ]
  },
  {
   "cell_type": "code",
   "execution_count": 134,
   "metadata": {},
   "outputs": [
    {
     "name": "stdout",
     "output_type": "stream",
     "text": [
      "no data\n"
     ]
    }
   ],
   "source": [
    "if df_pst_2.empty:\n",
    "    print('no data')"
   ]
  },
  {
   "cell_type": "code",
   "execution_count": 116,
   "metadata": {},
   "outputs": [
    {
     "data": {
      "text/html": [
       "<div>\n",
       "<style scoped>\n",
       "    .dataframe tbody tr th:only-of-type {\n",
       "        vertical-align: middle;\n",
       "    }\n",
       "\n",
       "    .dataframe tbody tr th {\n",
       "        vertical-align: top;\n",
       "    }\n",
       "\n",
       "    .dataframe thead th {\n",
       "        text-align: right;\n",
       "    }\n",
       "</style>\n",
       "<table border=\"1\" class=\"dataframe\">\n",
       "  <thead>\n",
       "    <tr style=\"text-align: right;\">\n",
       "      <th></th>\n",
       "      <th>debtor_title</th>\n",
       "      <th>register_no</th>\n",
       "      <th>0</th>\n",
       "    </tr>\n",
       "  </thead>\n",
       "  <tbody>\n",
       "  </tbody>\n",
       "</table>\n",
       "</div>"
      ],
      "text/plain": [
       "Empty DataFrame\n",
       "Columns: [debtor_title, register_no, 0]\n",
       "Index: []"
      ]
     },
     "execution_count": 116,
     "metadata": {},
     "output_type": "execute_result"
    }
   ],
   "source": [
    "df_test = df_pst.groupby(['debtor_title', 'register_no']).size().reset_index()\n",
    "df_test"
   ]
  },
  {
   "cell_type": "code",
   "execution_count": 94,
   "metadata": {},
   "outputs": [
    {
     "data": {
      "text/plain": [
       "secured_type\n",
       "無動產抵押資料    2\n",
       "Name: count, dtype: int64"
      ]
     },
     "execution_count": 94,
     "metadata": {},
     "output_type": "execute_result"
    }
   ],
   "source": [
    "df_pst.secured_type.value_counts()"
   ]
  },
  {
   "cell_type": "code",
   "execution_count": 95,
   "metadata": {},
   "outputs": [
    {
     "data": {
      "text/plain": [
       "Series([], Name: count, dtype: int64)"
      ]
     },
     "execution_count": 95,
     "metadata": {},
     "output_type": "execute_result"
    }
   ],
   "source": [
    "df_pst.currency.value_counts()"
   ]
  },
  {
   "cell_type": "code",
   "execution_count": 26,
   "metadata": {},
   "outputs": [],
   "source": [
    "# df_pst[df_pst['currency'] == '日圓']"
   ]
  },
  {
   "cell_type": "code",
   "execution_count": 27,
   "metadata": {},
   "outputs": [
    {
     "data": {
      "text/plain": [
       "Index(['register_organization_desc', 'register_no', 'change_no',\n",
       "       'annulment_no', 'secured_type', 'register_date', 'change_date',\n",
       "       'annyulment_date', 'debtor_title', 'debtor_accounting_no',\n",
       "       'debtor_substitute_title', 'debtor_substitute_acct_no',\n",
       "       'creditor_title', 'creditor_accounting_no', 'creditor_substitute_title',\n",
       "       'creditor_substitute_acct_no', 'agreement_start_date',\n",
       "       'object_owner_desc', 'object_owner_accounting_no', 'object_location',\n",
       "       'is_max_limit', 'object_type', 'agreement_end_date', 'agreement_amount',\n",
       "       'property_count', 'is_floating_lien', 'creation_dt', 'update_dt',\n",
       "       'datasource_num_id', 'other_memo', 'currency', 'datatype'],\n",
       "      dtype='object')"
      ]
     },
     "execution_count": 27,
     "metadata": {},
     "output_type": "execute_result"
    }
   ],
   "source": [
    "df1 = df_pst[df_pst['secured_type'] == '動產抵押']\n",
    "df1.columns"
   ]
  },
  {
   "cell_type": "code",
   "execution_count": 28,
   "metadata": {},
   "outputs": [
    {
     "data": {
      "text/html": [
       "<div>\n",
       "<style scoped>\n",
       "    .dataframe tbody tr th:only-of-type {\n",
       "        vertical-align: middle;\n",
       "    }\n",
       "\n",
       "    .dataframe tbody tr th {\n",
       "        vertical-align: top;\n",
       "    }\n",
       "\n",
       "    .dataframe thead th {\n",
       "        text-align: right;\n",
       "    }\n",
       "</style>\n",
       "<table border=\"1\" class=\"dataframe\">\n",
       "  <thead>\n",
       "    <tr style=\"text-align: right;\">\n",
       "      <th></th>\n",
       "      <th>debtor_title</th>\n",
       "      <th>debtor_accounting_no</th>\n",
       "      <th>creditor_title</th>\n",
       "      <th>creditor_accounting_no</th>\n",
       "      <th>creditor_substitute_title</th>\n",
       "      <th>object_location</th>\n",
       "      <th>is_max_limit</th>\n",
       "      <th>object_type</th>\n",
       "      <th>agreement_end_date</th>\n",
       "      <th>agreement_amount</th>\n",
       "      <th>property_count</th>\n",
       "      <th>creation_dt</th>\n",
       "      <th>update_dt</th>\n",
       "      <th>currency</th>\n",
       "      <th>datatype</th>\n",
       "      <th>datasource_num_id</th>\n",
       "    </tr>\n",
       "  </thead>\n",
       "  <tbody>\n",
       "    <tr>\n",
       "      <th>0</th>\n",
       "      <td>玠積國際有限公司</td>\n",
       "      <td>59229348</td>\n",
       "      <td>瑞興商業銀行股份有限公司</td>\n",
       "      <td>28417921</td>\n",
       "      <td>李彥蒲</td>\n",
       "      <td>811-高雄市楠梓區加仁路１２１號一、二、三樓</td>\n",
       "      <td>None</td>\n",
       "      <td>1、汽車、大型重型機器腳踏車及拖車</td>\n",
       "      <td>2033-07-26</td>\n",
       "      <td>960000.0</td>\n",
       "      <td>1.0</td>\n",
       "      <td>2023/09/15</td>\n",
       "      <td>2023/09/15</td>\n",
       "      <td>新台幣</td>\n",
       "      <td>公示案件</td>\n",
       "      <td>19518</td>\n",
       "    </tr>\n",
       "    <tr>\n",
       "      <th>2</th>\n",
       "      <td>新奇化工工業社</td>\n",
       "      <td>59239275</td>\n",
       "      <td>和潤企業股份有限公司</td>\n",
       "      <td>16844548</td>\n",
       "      <td>陳沛汝</td>\n",
       "      <td>502-彰化縣芬園鄉溪頭村彰南路一段１０３巷４４號</td>\n",
       "      <td>None</td>\n",
       "      <td>1、汽車、大型重型機器腳踏車及拖車</td>\n",
       "      <td>2038-01-18</td>\n",
       "      <td>1160000.0</td>\n",
       "      <td>1.0</td>\n",
       "      <td>2023/09/15</td>\n",
       "      <td>2023/09/15</td>\n",
       "      <td>新台幣</td>\n",
       "      <td>公示案件</td>\n",
       "      <td>19522</td>\n",
       "    </tr>\n",
       "    <tr>\n",
       "      <th>3</th>\n",
       "      <td>莊記綠豆鑽食品有限公司</td>\n",
       "      <td>59241856</td>\n",
       "      <td>中租迪和股份有限公司</td>\n",
       "      <td>05072925</td>\n",
       "      <td>None</td>\n",
       "      <td>高雄市鳳山區鳳仁路97-71號</td>\n",
       "      <td>是</td>\n",
       "      <td>1、機器設備或工具</td>\n",
       "      <td>2052-12-01</td>\n",
       "      <td>7200000.0</td>\n",
       "      <td>1.0</td>\n",
       "      <td>2023/09/15</td>\n",
       "      <td>2023/09/15</td>\n",
       "      <td>新台幣</td>\n",
       "      <td>公示案件</td>\n",
       "      <td>19523</td>\n",
       "    </tr>\n",
       "    <tr>\n",
       "      <th>4</th>\n",
       "      <td>廣泰利食品有限公司</td>\n",
       "      <td>59244798</td>\n",
       "      <td>中租迪和股份有限公司</td>\n",
       "      <td>05072925</td>\n",
       "      <td>None</td>\n",
       "      <td>高雄市鳳山區鎮北里鳳仁路93-51號</td>\n",
       "      <td>是</td>\n",
       "      <td>1、機器設備或工具</td>\n",
       "      <td>2049-12-31</td>\n",
       "      <td>3600000.0</td>\n",
       "      <td>1.0</td>\n",
       "      <td>2023/09/15</td>\n",
       "      <td>2023/09/15</td>\n",
       "      <td>新台幣</td>\n",
       "      <td>公示案件</td>\n",
       "      <td>19524</td>\n",
       "    </tr>\n",
       "    <tr>\n",
       "      <th>14</th>\n",
       "      <td>廣泰利食品有限公司</td>\n",
       "      <td>59244798</td>\n",
       "      <td>合作金庫商業銀行股份有限公司</td>\n",
       "      <td>70799128</td>\n",
       "      <td>None</td>\n",
       "      <td>高雄市鳳山區鳳仁路93-51號</td>\n",
       "      <td>是</td>\n",
       "      <td>1、機器設備或工具</td>\n",
       "      <td>2040-04-23</td>\n",
       "      <td>1920000.0</td>\n",
       "      <td>1.0</td>\n",
       "      <td>2023/09/15</td>\n",
       "      <td>2023/09/15</td>\n",
       "      <td>新台幣</td>\n",
       "      <td>公示案件</td>\n",
       "      <td>19525</td>\n",
       "    </tr>\n",
       "  </tbody>\n",
       "</table>\n",
       "</div>"
      ],
      "text/plain": [
       "   debtor_title debtor_accounting_no  creditor_title creditor_accounting_no  \\\n",
       "0      玠積國際有限公司             59229348    瑞興商業銀行股份有限公司               28417921   \n",
       "2       新奇化工工業社             59239275      和潤企業股份有限公司               16844548   \n",
       "3   莊記綠豆鑽食品有限公司             59241856      中租迪和股份有限公司               05072925   \n",
       "4     廣泰利食品有限公司             59244798      中租迪和股份有限公司               05072925   \n",
       "14    廣泰利食品有限公司             59244798  合作金庫商業銀行股份有限公司               70799128   \n",
       "\n",
       "   creditor_substitute_title            object_location is_max_limit  \\\n",
       "0                        李彥蒲    811-高雄市楠梓區加仁路１２１號一、二、三樓         None   \n",
       "2                        陳沛汝  502-彰化縣芬園鄉溪頭村彰南路一段１０３巷４４號         None   \n",
       "3                       None            高雄市鳳山區鳳仁路97-71號            是   \n",
       "4                       None         高雄市鳳山區鎮北里鳳仁路93-51號            是   \n",
       "14                      None            高雄市鳳山區鳳仁路93-51號            是   \n",
       "\n",
       "          object_type agreement_end_date  agreement_amount  property_count  \\\n",
       "0   1、汽車、大型重型機器腳踏車及拖車         2033-07-26          960000.0             1.0   \n",
       "2   1、汽車、大型重型機器腳踏車及拖車         2038-01-18         1160000.0             1.0   \n",
       "3           1、機器設備或工具         2052-12-01         7200000.0             1.0   \n",
       "4           1、機器設備或工具         2049-12-31         3600000.0             1.0   \n",
       "14          1、機器設備或工具         2040-04-23         1920000.0             1.0   \n",
       "\n",
       "   creation_dt   update_dt currency datatype  datasource_num_id  \n",
       "0   2023/09/15  2023/09/15      新台幣     公示案件              19518  \n",
       "2   2023/09/15  2023/09/15      新台幣     公示案件              19522  \n",
       "3   2023/09/15  2023/09/15      新台幣     公示案件              19523  \n",
       "4   2023/09/15  2023/09/15      新台幣     公示案件              19524  \n",
       "14  2023/09/15  2023/09/15      新台幣     公示案件              19525  "
      ]
     },
     "execution_count": 28,
     "metadata": {},
     "output_type": "execute_result"
    }
   ],
   "source": [
    "# ? is_floating_lien\n",
    "\n",
    "df1[['debtor_title', 'debtor_accounting_no',\n",
    "       'creditor_title', 'creditor_accounting_no', 'creditor_substitute_title',\n",
    "        'object_location','is_max_limit', 'object_type', 'agreement_end_date', 'agreement_amount',\n",
    "       'property_count', 'creation_dt', 'update_dt',\n",
    "        'currency', 'datatype','datasource_num_id']].head()"
   ]
  },
  {
   "cell_type": "markdown",
   "metadata": {},
   "source": [
    "Pst in past"
   ]
  },
  {
   "cell_type": "code",
   "execution_count": 29,
   "metadata": {},
   "outputs": [],
   "source": [
    "df_pst_past = df1[df1['agreement_end_date'] <= datetime.now()]"
   ]
  },
  {
   "cell_type": "code",
   "execution_count": 30,
   "metadata": {},
   "outputs": [
    {
     "data": {
      "text/html": [
       "<div>\n",
       "<style scoped>\n",
       "    .dataframe tbody tr th:only-of-type {\n",
       "        vertical-align: middle;\n",
       "    }\n",
       "\n",
       "    .dataframe tbody tr th {\n",
       "        vertical-align: top;\n",
       "    }\n",
       "\n",
       "    .dataframe thead th {\n",
       "        text-align: right;\n",
       "    }\n",
       "</style>\n",
       "<table border=\"1\" class=\"dataframe\">\n",
       "  <thead>\n",
       "    <tr style=\"text-align: right;\">\n",
       "      <th></th>\n",
       "      <th>debtor_title</th>\n",
       "      <th>agreement_end_date</th>\n",
       "      <th>datasource_num_id</th>\n",
       "    </tr>\n",
       "  </thead>\n",
       "  <tbody>\n",
       "    <tr>\n",
       "      <th>17</th>\n",
       "      <td>元祥金屬工業股份有限公司</td>\n",
       "      <td>2009-02-01</td>\n",
       "      <td>19528</td>\n",
       "    </tr>\n",
       "    <tr>\n",
       "      <th>18</th>\n",
       "      <td>元祥金屬工業股份有限公司</td>\n",
       "      <td>2008-09-01</td>\n",
       "      <td>19529</td>\n",
       "    </tr>\n",
       "    <tr>\n",
       "      <th>19</th>\n",
       "      <td>元祥金屬工業股份有限公司</td>\n",
       "      <td>2007-09-08</td>\n",
       "      <td>19530</td>\n",
       "    </tr>\n",
       "    <tr>\n",
       "      <th>39</th>\n",
       "      <td>永裕塑膠工業股份有限公司</td>\n",
       "      <td>2016-09-20</td>\n",
       "      <td>19960</td>\n",
       "    </tr>\n",
       "    <tr>\n",
       "      <th>43</th>\n",
       "      <td>東陽實業廠股份有限公司</td>\n",
       "      <td>2016-11-06</td>\n",
       "      <td>19964</td>\n",
       "    </tr>\n",
       "    <tr>\n",
       "      <th>...</th>\n",
       "      <td>...</td>\n",
       "      <td>...</td>\n",
       "      <td>...</td>\n",
       "    </tr>\n",
       "    <tr>\n",
       "      <th>24037</th>\n",
       "      <td>長麒金屬工業股份有限公司</td>\n",
       "      <td>2016-01-18</td>\n",
       "      <td>23474</td>\n",
       "    </tr>\n",
       "    <tr>\n",
       "      <th>24038</th>\n",
       "      <td>長麒金屬工業股份有限公司</td>\n",
       "      <td>2009-11-14</td>\n",
       "      <td>23475</td>\n",
       "    </tr>\n",
       "    <tr>\n",
       "      <th>24039</th>\n",
       "      <td>長麒金屬工業股份有限公司</td>\n",
       "      <td>2008-09-19</td>\n",
       "      <td>23476</td>\n",
       "    </tr>\n",
       "    <tr>\n",
       "      <th>24052</th>\n",
       "      <td>金上吉塑膠股份有限公司</td>\n",
       "      <td>2018-05-07</td>\n",
       "      <td>23488</td>\n",
       "    </tr>\n",
       "    <tr>\n",
       "      <th>24054</th>\n",
       "      <td>奇異彩藝有限公司</td>\n",
       "      <td>2018-04-14</td>\n",
       "      <td>23491</td>\n",
       "    </tr>\n",
       "  </tbody>\n",
       "</table>\n",
       "<p>1320 rows × 3 columns</p>\n",
       "</div>"
      ],
      "text/plain": [
       "       debtor_title agreement_end_date  datasource_num_id\n",
       "17     元祥金屬工業股份有限公司         2009-02-01              19528\n",
       "18     元祥金屬工業股份有限公司         2008-09-01              19529\n",
       "19     元祥金屬工業股份有限公司         2007-09-08              19530\n",
       "39     永裕塑膠工業股份有限公司         2016-09-20              19960\n",
       "43      東陽實業廠股份有限公司         2016-11-06              19964\n",
       "...             ...                ...                ...\n",
       "24037  長麒金屬工業股份有限公司         2016-01-18              23474\n",
       "24038  長麒金屬工業股份有限公司         2009-11-14              23475\n",
       "24039  長麒金屬工業股份有限公司         2008-09-19              23476\n",
       "24052   金上吉塑膠股份有限公司         2018-05-07              23488\n",
       "24054      奇異彩藝有限公司         2018-04-14              23491\n",
       "\n",
       "[1320 rows x 3 columns]"
      ]
     },
     "execution_count": 30,
     "metadata": {},
     "output_type": "execute_result"
    }
   ],
   "source": [
    "df_pst_past[['debtor_title', 'agreement_end_date', 'datasource_num_id']]"
   ]
  },
  {
   "cell_type": "code",
   "execution_count": 31,
   "metadata": {},
   "outputs": [],
   "source": [
    "# df_pst_past"
   ]
  },
  {
   "cell_type": "code",
   "execution_count": 32,
   "metadata": {},
   "outputs": [],
   "source": [
    "def portion_pie_plot(df, target_column, title):\n",
    "    type_counts = {type: df[target_column].count() for type in set(df[target_column])}\n",
    "\n",
    "    labels = type_counts.keys()\n",
    "    sizes = type_counts.values()\n",
    "\n",
    "    plt.figure(figsize=(8, 6))\n",
    "    plt.pie(sizes, labels=labels, autopct='%1.1f%%', startangle=90)\n",
    "    plt.axis('equal')  # Equal aspect ratio ensures that pie is drawn as a circle.\n",
    "\n",
    "    plt.title(title)\n",
    "    plt.show()\n",
    "\n",
    "    # img_buf = io.BytesIO()\n",
    "    # plt.savefig(img_buf, format='png')\n",
    "    # img_buf.seek(0)\n",
    "    # plt.close('all')\n",
    "\n",
    "    # return img_buf\n"
   ]
  },
  {
   "cell_type": "code",
   "execution_count": 33,
   "metadata": {},
   "outputs": [],
   "source": [
    "# portion_pie_plot(df_test, 'object_type', '抵押品類別分布')"
   ]
  },
  {
   "cell_type": "code",
   "execution_count": 34,
   "metadata": {},
   "outputs": [],
   "source": [
    "df_pst_past_test = df1[df1['debtor_title'] == '三芳化學工業股份有限公司']\n",
    "df_test = df_pst_past_test[['debtor_title', 'agreement_end_date', 'datasource_num_id']]"
   ]
  },
  {
   "cell_type": "code",
   "execution_count": 35,
   "metadata": {},
   "outputs": [
    {
     "data": {
      "text/html": [
       "<div>\n",
       "<style scoped>\n",
       "    .dataframe tbody tr th:only-of-type {\n",
       "        vertical-align: middle;\n",
       "    }\n",
       "\n",
       "    .dataframe tbody tr th {\n",
       "        vertical-align: top;\n",
       "    }\n",
       "\n",
       "    .dataframe thead th {\n",
       "        text-align: right;\n",
       "    }\n",
       "</style>\n",
       "<table border=\"1\" class=\"dataframe\">\n",
       "  <thead>\n",
       "    <tr style=\"text-align: right;\">\n",
       "      <th></th>\n",
       "      <th>debtor_title</th>\n",
       "      <th>agreement_end_date</th>\n",
       "      <th>currency</th>\n",
       "      <th>agreement_amount</th>\n",
       "    </tr>\n",
       "  </thead>\n",
       "  <tbody>\n",
       "    <tr>\n",
       "      <th>21612</th>\n",
       "      <td>三芳化學工業股份有限公司</td>\n",
       "      <td>2012-08-23</td>\n",
       "      <td>新台幣</td>\n",
       "      <td>60000000.0</td>\n",
       "    </tr>\n",
       "    <tr>\n",
       "      <th>21613</th>\n",
       "      <td>三芳化學工業股份有限公司</td>\n",
       "      <td>2003-09-22</td>\n",
       "      <td>美金</td>\n",
       "      <td>7585000.0</td>\n",
       "    </tr>\n",
       "    <tr>\n",
       "      <th>21614</th>\n",
       "      <td>三芳化學工業股份有限公司</td>\n",
       "      <td>2006-10-24</td>\n",
       "      <td>新台幣</td>\n",
       "      <td>173000000.0</td>\n",
       "    </tr>\n",
       "    <tr>\n",
       "      <th>21615</th>\n",
       "      <td>三芳化學工業股份有限公司</td>\n",
       "      <td>1996-10-24</td>\n",
       "      <td>新台幣</td>\n",
       "      <td>126000000.0</td>\n",
       "    </tr>\n",
       "    <tr>\n",
       "      <th>21616</th>\n",
       "      <td>三芳化學工業股份有限公司</td>\n",
       "      <td>2010-04-06</td>\n",
       "      <td>新台幣</td>\n",
       "      <td>139000000.0</td>\n",
       "    </tr>\n",
       "    <tr>\n",
       "      <th>21699</th>\n",
       "      <td>三芳化學工業股份有限公司</td>\n",
       "      <td>2004-06-10</td>\n",
       "      <td>日圓</td>\n",
       "      <td>456000000.0</td>\n",
       "    </tr>\n",
       "    <tr>\n",
       "      <th>21700</th>\n",
       "      <td>三芳化學工業股份有限公司</td>\n",
       "      <td>2007-12-28</td>\n",
       "      <td>新台幣</td>\n",
       "      <td>217936630.0</td>\n",
       "    </tr>\n",
       "    <tr>\n",
       "      <th>21701</th>\n",
       "      <td>三芳化學工業股份有限公司</td>\n",
       "      <td>1983-10-21</td>\n",
       "      <td>新台幣</td>\n",
       "      <td>30000000.0</td>\n",
       "    </tr>\n",
       "  </tbody>\n",
       "</table>\n",
       "</div>"
      ],
      "text/plain": [
       "       debtor_title agreement_end_date currency  agreement_amount\n",
       "21612  三芳化學工業股份有限公司         2012-08-23      新台幣        60000000.0\n",
       "21613  三芳化學工業股份有限公司         2003-09-22       美金         7585000.0\n",
       "21614  三芳化學工業股份有限公司         2006-10-24      新台幣       173000000.0\n",
       "21615  三芳化學工業股份有限公司         1996-10-24      新台幣       126000000.0\n",
       "21616  三芳化學工業股份有限公司         2010-04-06      新台幣       139000000.0\n",
       "21699  三芳化學工業股份有限公司         2004-06-10       日圓       456000000.0\n",
       "21700  三芳化學工業股份有限公司         2007-12-28      新台幣       217936630.0\n",
       "21701  三芳化學工業股份有限公司         1983-10-21      新台幣        30000000.0"
      ]
     },
     "execution_count": 35,
     "metadata": {},
     "output_type": "execute_result"
    }
   ],
   "source": [
    "df_pst_past_test[['debtor_title','agreement_end_date', 'currency', 'agreement_amount']]"
   ]
  },
  {
   "cell_type": "code",
   "execution_count": 36,
   "metadata": {},
   "outputs": [
    {
     "data": {
      "text/plain": [
       "              currency\n",
       "total_amount  新台幣         745936630\n",
       "              日圓          456000000\n",
       "              美金            7585000\n",
       "dtype: int64"
      ]
     },
     "execution_count": 36,
     "metadata": {},
     "output_type": "execute_result"
    }
   ],
   "source": [
    "df_pst_past_test.groupby(['currency'])['agreement_amount'].agg(total_amount='sum').astype('int64').unstack()"
   ]
  },
  {
   "cell_type": "code",
   "execution_count": 37,
   "metadata": {},
   "outputs": [],
   "source": [
    "# analyze the pre- and post-timepoint pst data with identical functions\n",
    "def pst_analysis(df, time_config, year_region):\n",
    "\n",
    "    # test case: 三芳化學工業股份有限公司\n",
    "\n",
    "\n",
    "    current_year = datetime.now().year\n",
    "    \n",
    "    if time_config == 'past':\n",
    "        if df['agreement_end_date'].max() < datetime.now():\n",
    "            df_sliced = df[df['agreement_end_date'] <= datetime.now()]\n",
    "            years_range = list(range(current_year - year_region, current_year))\n",
    "            # for past : max\n",
    "            nearest_end_date = df_sliced['agreement_end_date'].max()\n",
    "        elif df['agreement_end_date'].max() > datetime.now():\n",
    "            return print('No pass data.')\n",
    "        \n",
    "    elif time_config == 'future':\n",
    "        if df['agreement_end_date'].min() >= datetime.now():\n",
    "            df_sliced = df[df['agreement_end_date'] > datetime.now()]\n",
    "            years_range = list(range(current_year, current_year +  year_region))\n",
    "            # for future: min\n",
    "            nearest_end_date = df_sliced['agreement_end_date'].min()\n",
    "\n",
    "        elif df['agreement_end_date'].min() < datetime.now():\n",
    "            return print('No future data')\n",
    "        \n",
    "    else:\n",
    "        return print('wrong time config for pst_analysis')\n",
    "\n",
    "\n",
    "    # show in terms of different currency\n",
    "    total_agreement_currency = df_sliced.groupby(['debtor_title','currency'])['agreement_amount'].agg(total_amount='sum').astype('int64')\n",
    "\n",
    "\n",
    "    # portion of object_type\n",
    "    portion_pie_plot(df_sliced, 'object_type', '抵押品類別分布')\n",
    "        \n",
    "\n",
    "\n",
    "    # count times by agreement_end_date in terms of year\n",
    "    data_year = [date.year for date in df_sliced['agreement_end_date']]\n",
    "    counts = {year: 0 for year in years_range}\n",
    "    for year in data_year:\n",
    "        if year in counts:\n",
    "            counts[year] += 1\n",
    "    years = list(counts.keys())\n",
    "    values = list(counts.values())\n",
    "    plt.figure(figsize=(10, 6))\n",
    "    plt.plot(years, values, marker='o', linestyle='-', color='blue')\n",
    "    if time_config == 'past':\n",
    "        plt.title(f'過去{year_region}年逐年動產擔保到期次數')\n",
    "    elif time_config == 'future':\n",
    "        plt.title(f'未來{year_region}年逐年動產擔保到期次數')\n",
    "    plt.xlabel('年')\n",
    "    plt.ylabel('次數')\n",
    "    plt.xticks(years)\n",
    "    plt.grid(True)\n",
    "    plt.show()\n",
    "    \n",
    "    # line_plot = io.BytesIO()\n",
    "    # plt.savefig(line_plot, format='png')\n",
    "    # line_plot.seek(0)\n",
    "    # plt.close('all')\n",
    "\n",
    "    # return line_plot\n",
    "\n",
    "    return total_agreement_currency, nearest_end_date"
   ]
  },
  {
   "cell_type": "code",
   "execution_count": 38,
   "metadata": {},
   "outputs": [
    {
     "data": {
      "image/png": "[encoded data removed]",
      "text/plain": [
       "<Figure size 800x600 with 1 Axes>"
      ]
     },
     "metadata": {},
     "output_type": "display_data"
    },
    {
     "data": {
      "image/png": "[encoded data removed]",
      "text/plain": [
       "<Figure size 1000x600 with 1 Axes>"
      ]
     },
     "metadata": {},
     "output_type": "display_data"
    }
   ],
   "source": [
    "total_agreement_currency, nearest_end_date = pst_analysis(df_pst_past_test, 'past', 10)"
   ]
  },
  {
   "cell_type": "code",
   "execution_count": 39,
   "metadata": {},
   "outputs": [
    {
     "data": {
      "text/html": [
       "<div>\n",
       "<style scoped>\n",
       "    .dataframe tbody tr th:only-of-type {\n",
       "        vertical-align: middle;\n",
       "    }\n",
       "\n",
       "    .dataframe tbody tr th {\n",
       "        vertical-align: top;\n",
       "    }\n",
       "\n",
       "    .dataframe thead th {\n",
       "        text-align: right;\n",
       "    }\n",
       "</style>\n",
       "<table border=\"1\" class=\"dataframe\">\n",
       "  <thead>\n",
       "    <tr style=\"text-align: right;\">\n",
       "      <th></th>\n",
       "      <th></th>\n",
       "      <th>total_amount</th>\n",
       "    </tr>\n",
       "    <tr>\n",
       "      <th>debtor_title</th>\n",
       "      <th>currency</th>\n",
       "      <th></th>\n",
       "    </tr>\n",
       "  </thead>\n",
       "  <tbody>\n",
       "    <tr>\n",
       "      <th rowspan=\"3\" valign=\"top\">三芳化學工業股份有限公司</th>\n",
       "      <th>新台幣</th>\n",
       "      <td>745936630</td>\n",
       "    </tr>\n",
       "    <tr>\n",
       "      <th>日圓</th>\n",
       "      <td>456000000</td>\n",
       "    </tr>\n",
       "    <tr>\n",
       "      <th>美金</th>\n",
       "      <td>7585000</td>\n",
       "    </tr>\n",
       "  </tbody>\n",
       "</table>\n",
       "</div>"
      ],
      "text/plain": [
       "                       total_amount\n",
       "debtor_title currency              \n",
       "三芳化學工業股份有限公司 新台幣          745936630\n",
       "             日圓           456000000\n",
       "             美金             7585000"
      ]
     },
     "execution_count": 39,
     "metadata": {},
     "output_type": "execute_result"
    }
   ],
   "source": [
    "total_agreement_currency"
   ]
  },
  {
   "cell_type": "code",
   "execution_count": 40,
   "metadata": {},
   "outputs": [
    {
     "data": {
      "text/plain": [
       "[2019, 2020, 2021, 2022, 2023, 2024]"
      ]
     },
     "execution_count": 40,
     "metadata": {},
     "output_type": "execute_result"
    }
   ],
   "source": [
    "current_year = datetime.now().year\n",
    "years_range = list(range(current_year-5, current_year+1))\n",
    "years_range"
   ]
  },
  {
   "cell_type": "code",
   "execution_count": 41,
   "metadata": {},
   "outputs": [
    {
     "data": {
      "text/plain": [
       "1056600"
      ]
     },
     "execution_count": 41,
     "metadata": {},
     "output_type": "execute_result"
    }
   ],
   "source": [
    "# total agreement_amount\n",
    "total_agreement = df_pst_past.agreement_amount.sum().astype('int64')\n",
    "\n",
    "# the nearest end_date\n",
    "nearest_end_date = df_pst_past['agreement_end_date'].max()\n",
    "\n",
    "# the nearest agreement_amount\n",
    "nearest_agreement_amount = df_pst_past.loc[df_pst_past['agreement_end_date'] == df_pst_past['agreement_end_date'].max(), 'agreement_amount'].values[0].astype('int64')\n",
    "nearest_agreement_amount\n",
    "\n",
    "# \n",
    "\n",
    "# detail data?"
   ]
  },
  {
   "cell_type": "code",
   "execution_count": 42,
   "metadata": {},
   "outputs": [],
   "source": [
    "def cat_value_count_bar_plot(df, column, color, title, xlabel, y_label):\n",
    "    # Calculate the distribution of 'is_improve'\n",
    "    distribution = df[column].value_counts()\n",
    "\n",
    "    # Create a bar plot\n",
    "    plt.figure(figsize=(6, 4))\n",
    "    bars = distribution.plot(kind='bar', color=color)\n",
    "\n",
    "    # Add annotations to each bar\n",
    "    for i, count in enumerate(distribution):\n",
    "        plt.text(i, count + 0.1, str(count), ha='center')\n",
    "\n",
    "\n",
    "    plt.title(title)\n",
    "    plt.xlabel(xlabel)\n",
    "    plt.ylabel(y_label)\n",
    "    plt.xticks(rotation=0)\n",
    "    plt.grid(axis='y', linestyle='--', alpha=0.9)\n",
    "    plt.tight_layout()\n",
    "    plt.show()"
   ]
  },
  {
   "cell_type": "code",
   "execution_count": 43,
   "metadata": {},
   "outputs": [
    {
     "data": {
      "image/png": "[encoded data removed]",
      "text/plain": [
       "<Figure size 600x400 with 1 Axes>"
      ]
     },
     "metadata": {},
     "output_type": "display_data"
    }
   ],
   "source": [
    "# object_type distribution\n",
    "cat_value_count_bar_plot(df_pst_past, 'object_type', 'darkgreen', '擔保類別分布', '擔保類型', '次數')"
   ]
  },
  {
   "cell_type": "code",
   "execution_count": 44,
   "metadata": {},
   "outputs": [],
   "source": [
    "# cat_value_count_bar_plot(df_epa, 'penaltykind', 'skyblue', '環保署裁處類別分布', '裁處類別', '次數')"
   ]
  },
  {
   "cell_type": "markdown",
   "metadata": {},
   "source": [
    "Pst in future"
   ]
  },
  {
   "cell_type": "code",
   "execution_count": 45,
   "metadata": {},
   "outputs": [],
   "source": [
    "df_pst_future = df1[df1['agreement_end_date'] > datetime.now()]"
   ]
  },
  {
   "cell_type": "markdown",
   "metadata": {},
   "source": [
    "### Judgement"
   ]
  },
  {
   "cell_type": "markdown",
   "metadata": {},
   "source": [
    "### MOPS\n",
    "Market Observation Post System"
   ]
  },
  {
   "cell_type": "code",
   "execution_count": 46,
   "metadata": {},
   "outputs": [],
   "source": [
    "query = f\"\"\"\n",
    "    select * from mops_monthly_report\n",
    "    where company_id = 1104\n",
    "\"\"\"\n",
    "df_mops = sql_agent.read_table(query=query)"
   ]
  },
  {
   "cell_type": "code",
   "execution_count": 47,
   "metadata": {},
   "outputs": [],
   "source": [
    "df_mops['sales_MoM'] = (df_mops['sales'] - df_mops['sales_lastmm'])/df_mops['sales_lastmm']\n",
    "df_mops['sales_YoY'] = (df_mops['sales'] - df_mops['sales_lastyy'])/df_mops['sales_lastyy']"
   ]
  },
  {
   "cell_type": "code",
   "execution_count": 48,
   "metadata": {},
   "outputs": [
    {
     "data": {
      "text/html": [
       "<div>\n",
       "<style scoped>\n",
       "    .dataframe tbody tr th:only-of-type {\n",
       "        vertical-align: middle;\n",
       "    }\n",
       "\n",
       "    .dataframe tbody tr th {\n",
       "        vertical-align: top;\n",
       "    }\n",
       "\n",
       "    .dataframe thead th {\n",
       "        text-align: right;\n",
       "    }\n",
       "</style>\n",
       "<table border=\"1\" class=\"dataframe\">\n",
       "  <thead>\n",
       "    <tr style=\"text-align: right;\">\n",
       "      <th></th>\n",
       "      <th>company_id</th>\n",
       "      <th>company_name</th>\n",
       "      <th>period_year</th>\n",
       "      <th>period_month</th>\n",
       "      <th>sales</th>\n",
       "      <th>sales_lastmm</th>\n",
       "      <th>sales_lastyy</th>\n",
       "      <th>var_lastmm</th>\n",
       "      <th>var_lastyy</th>\n",
       "      <th>y2m</th>\n",
       "      <th>y2m_lastyy</th>\n",
       "      <th>var_lasty2m</th>\n",
       "      <th>comment</th>\n",
       "      <th>sales_MoM</th>\n",
       "      <th>sales_YoY</th>\n",
       "    </tr>\n",
       "  </thead>\n",
       "  <tbody>\n",
       "    <tr>\n",
       "      <th>0</th>\n",
       "      <td>1104</td>\n",
       "      <td>環泥</td>\n",
       "      <td>2019</td>\n",
       "      <td>1</td>\n",
       "      <td>479518.0</td>\n",
       "      <td>465496.0</td>\n",
       "      <td>460482.0</td>\n",
       "      <td>3.01</td>\n",
       "      <td>4.13</td>\n",
       "      <td>479518.0</td>\n",
       "      <td>460482.0</td>\n",
       "      <td>4.13</td>\n",
       "      <td>None</td>\n",
       "      <td>0.030123</td>\n",
       "      <td>0.041339</td>\n",
       "    </tr>\n",
       "    <tr>\n",
       "      <th>1</th>\n",
       "      <td>1104</td>\n",
       "      <td>環泥</td>\n",
       "      <td>2019</td>\n",
       "      <td>2</td>\n",
       "      <td>270638.0</td>\n",
       "      <td>479518.0</td>\n",
       "      <td>268120.0</td>\n",
       "      <td>-43.56</td>\n",
       "      <td>0.93</td>\n",
       "      <td>750157.0</td>\n",
       "      <td>728601.0</td>\n",
       "      <td>2.95</td>\n",
       "      <td>None</td>\n",
       "      <td>-0.435604</td>\n",
       "      <td>0.009391</td>\n",
       "    </tr>\n",
       "    <tr>\n",
       "      <th>2</th>\n",
       "      <td>1104</td>\n",
       "      <td>環泥</td>\n",
       "      <td>2019</td>\n",
       "      <td>3</td>\n",
       "      <td>437140.0</td>\n",
       "      <td>270638.0</td>\n",
       "      <td>437497.0</td>\n",
       "      <td>61.52</td>\n",
       "      <td>-0.08</td>\n",
       "      <td>1187296.0</td>\n",
       "      <td>1166097.0</td>\n",
       "      <td>1.81</td>\n",
       "      <td>None</td>\n",
       "      <td>0.615220</td>\n",
       "      <td>-0.000816</td>\n",
       "    </tr>\n",
       "    <tr>\n",
       "      <th>3</th>\n",
       "      <td>1104</td>\n",
       "      <td>環泥</td>\n",
       "      <td>2019</td>\n",
       "      <td>4</td>\n",
       "      <td>418992.0</td>\n",
       "      <td>437140.0</td>\n",
       "      <td>385013.0</td>\n",
       "      <td>-4.15</td>\n",
       "      <td>8.82</td>\n",
       "      <td>1606289.0</td>\n",
       "      <td>1551110.0</td>\n",
       "      <td>3.55</td>\n",
       "      <td>None</td>\n",
       "      <td>-0.041515</td>\n",
       "      <td>0.088254</td>\n",
       "    </tr>\n",
       "    <tr>\n",
       "      <th>4</th>\n",
       "      <td>1104</td>\n",
       "      <td>環泥</td>\n",
       "      <td>2019</td>\n",
       "      <td>5</td>\n",
       "      <td>421251.0</td>\n",
       "      <td>418992.0</td>\n",
       "      <td>426170.0</td>\n",
       "      <td>0.53</td>\n",
       "      <td>-1.15</td>\n",
       "      <td>2027540.0</td>\n",
       "      <td>1977280.0</td>\n",
       "      <td>2.54</td>\n",
       "      <td>None</td>\n",
       "      <td>0.005392</td>\n",
       "      <td>-0.011542</td>\n",
       "    </tr>\n",
       "  </tbody>\n",
       "</table>\n",
       "</div>"
      ],
      "text/plain": [
       "  company_id company_name  period_year  period_month     sales  sales_lastmm  \\\n",
       "0       1104           環泥         2019             1  479518.0      465496.0   \n",
       "1       1104           環泥         2019             2  270638.0      479518.0   \n",
       "2       1104           環泥         2019             3  437140.0      270638.0   \n",
       "3       1104           環泥         2019             4  418992.0      437140.0   \n",
       "4       1104           環泥         2019             5  421251.0      418992.0   \n",
       "\n",
       "   sales_lastyy  var_lastmm  var_lastyy        y2m  y2m_lastyy  var_lasty2m  \\\n",
       "0      460482.0        3.01        4.13   479518.0    460482.0         4.13   \n",
       "1      268120.0      -43.56        0.93   750157.0    728601.0         2.95   \n",
       "2      437497.0       61.52       -0.08  1187296.0   1166097.0         1.81   \n",
       "3      385013.0       -4.15        8.82  1606289.0   1551110.0         3.55   \n",
       "4      426170.0        0.53       -1.15  2027540.0   1977280.0         2.54   \n",
       "\n",
       "  comment  sales_MoM  sales_YoY  \n",
       "0    None   0.030123   0.041339  \n",
       "1    None  -0.435604   0.009391  \n",
       "2    None   0.615220  -0.000816  \n",
       "3    None  -0.041515   0.088254  \n",
       "4    None   0.005392  -0.011542  "
      ]
     },
     "execution_count": 48,
     "metadata": {},
     "output_type": "execute_result"
    }
   ],
   "source": [
    "df_mops.head()"
   ]
  },
  {
   "cell_type": "code",
   "execution_count": 49,
   "metadata": {},
   "outputs": [],
   "source": [
    "df_mops['period'] = pd.to_datetime(df_mops['period_year'].astype(str) + '-' + df_mops['period_month'].astype(str))\n"
   ]
  },
  {
   "cell_type": "code",
   "execution_count": 50,
   "metadata": {},
   "outputs": [],
   "source": [
    "def mops_line_plot(df, x_axis, y_axis, x_label, y_label, title):\n",
    "    plt.figure(figsize=(10, 5))\n",
    "    plt.plot(df[x_axis], df[y_axis], linestyle='-')\n",
    "    plt.title(title)\n",
    "    plt.xlabel(x_label)\n",
    "    plt.ylabel(y_label)\n",
    "    plt.grid(True)\n",
    "    plt.xticks(rotation=45)\n",
    "    plt.tight_layout()\n",
    "    plt.show()"
   ]
  },
  {
   "cell_type": "code",
   "execution_count": 51,
   "metadata": {},
   "outputs": [
    {
     "data": {
      "image/png": "[encoded data removed]",
      "text/plain": [
       "<Figure size 1000x500 with 1 Axes>"
      ]
     },
     "metadata": {},
     "output_type": "display_data"
    }
   ],
   "source": [
    "mops_line_plot(df_mops, 'period', 'sales','Date', 'Sales', 'Monthly Sales Over Time')"
   ]
  },
  {
   "cell_type": "code",
   "execution_count": 52,
   "metadata": {},
   "outputs": [],
   "source": [
    "def mops_bar_plot(df, colors, x_axis, y_axis, x_label, y_label, title):\n",
    "    plt.figure(figsize=(10, 6))\n",
    "    plt.bar(df[x_axis], df[y_axis], color=colors, width=20)\n",
    "    plt.title(title)\n",
    "    plt.xlabel(x_label)\n",
    "    plt.ylabel(y_label)\n",
    "    plt.axhline(0, color='black', linewidth=0.5)  # Add a line at y=0 for reference\n",
    "    plt.xticks(rotation=45)\n",
    "    plt.grid(axis='y', linestyle='--', alpha=0.7)\n",
    "    plt.show()"
   ]
  },
  {
   "cell_type": "code",
   "execution_count": 53,
   "metadata": {},
   "outputs": [
    {
     "data": {
      "image/png": "[encoded data removed]",
      "text/plain": [
       "<Figure size 1000x600 with 1 Axes>"
      ]
     },
     "metadata": {},
     "output_type": "display_data"
    }
   ],
   "source": [
    "x_axis = 'period'\n",
    "y_axis = 'var_lastmm'\n",
    "x_label = 'Date'\n",
    "y_label = 'Sales MoM change'\n",
    "title = 'Sales MoM'\n",
    "colors = ['green' if x > 0 else 'red' for x in df_mops['var_lastmm']]\n",
    "mops_bar_plot(df_mops, colors, x_axis, y_axis, x_label, y_label, title)"
   ]
  },
  {
   "cell_type": "code",
   "execution_count": 54,
   "metadata": {},
   "outputs": [
    {
     "data": {
      "image/png": "[encoded data removed]",
      "text/plain": [
       "<Figure size 1000x600 with 1 Axes>"
      ]
     },
     "metadata": {},
     "output_type": "display_data"
    }
   ],
   "source": [
    "x_axis = 'period'\n",
    "y_axis = 'var_lastyy'\n",
    "x_label = 'Date'\n",
    "y_label = 'Sales YoY change'\n",
    "title = 'Sales YoY'\n",
    "colors = ['green' if x > 0 else 'red' for x in df_mops['var_lastyy']]\n",
    "mops_bar_plot(df_mops, colors, x_axis, y_axis, x_label, y_label, title)"
   ]
  },
  {
   "cell_type": "code",
   "execution_count": 55,
   "metadata": {},
   "outputs": [],
   "source": [
    "# y2m of 4 years in one plot\n",
    "df = df_mops[['period_year', 'period_month', 'y2m']]"
   ]
  },
  {
   "cell_type": "code",
   "execution_count": 56,
   "metadata": {},
   "outputs": [
    {
     "name": "stderr",
     "output_type": "stream",
     "text": [
      "posx and posy should be finite values\n",
      "posx and posy should be finite values\n"
     ]
    },
    {
     "data": {
      "image/png": "[encoded data removed]",
      "text/plain": [
       "<Figure size 1200x600 with 1 Axes>"
      ]
     },
     "metadata": {},
     "output_type": "display_data"
    }
   ],
   "source": [
    "# Use pivot_table to organize the data with months as rows and years as columns\n",
    "df_pivot = df.pivot_table(index='period_month', columns='period_year', values='y2m', aggfunc='mean')\n",
    "\n",
    "# Plotting\n",
    "plt.figure(figsize=(12, 6))\n",
    "for column in df_pivot.columns:\n",
    "    color = 'red' if column == 2024 else 'grey'  # Conditional color assignment\n",
    "    label = f'Year {column}' if column == 2024 else None  # Only label year 2024\n",
    "    plt.plot(df_pivot.index, df_pivot[column], marker='o', label=label, color=color)\n",
    "    \n",
    "    # Annotating the year at the end of each line\n",
    "    end_point_y = df_pivot[column].iloc[-1]  # Get the last y-value of the series\n",
    "    end_point_x = df_pivot.index[-1]         # Get the last x-value (month)\n",
    "    plt.text(end_point_x + 0.1, end_point_y, str(column), color=color, verticalalignment='center')\n",
    "\n",
    "plt.xlabel('Month')\n",
    "plt.ylabel('Y2M')\n",
    "plt.title('Monthly Y2M by Year')\n",
    "plt.xticks(range(1, 13))  # Adjusting x-axis for months\n",
    "plt.legend(title='Legend')\n",
    "plt.grid(True)\n",
    "plt.show()"
   ]
  },
  {
   "cell_type": "code",
   "execution_count": 57,
   "metadata": {},
   "outputs": [],
   "source": [
    "def create_qurter(period_month):\n",
    "    if period_month in range(1,4,1):\n",
    "        return \"Q1\"\n",
    "    elif period_month in range (4,7,1):\n",
    "        return \"Q2\"\n",
    "    elif period_month in range(7,10,1):\n",
    "        return \"Q3\"\n",
    "    else:\n",
    "        return \"Q4\""
   ]
  },
  {
   "cell_type": "code",
   "execution_count": 58,
   "metadata": {},
   "outputs": [],
   "source": [
    "df_mops[\"quarter\"] = df_mops['period_month'].apply(create_qurter)\n",
    "df_mops['year_quarter'] = df_mops['period_year'].astype(str) + df_mops['quarter']"
   ]
  },
  {
   "cell_type": "code",
   "execution_count": 59,
   "metadata": {},
   "outputs": [],
   "source": [
    "df_mops_QoQ = df_mops.groupby('year_quarter').agg(year_quarter_sales= ('sales','sum')).reset_index()\n",
    "df_mops_QoQ['QoQ'] = (df_mops_QoQ['year_quarter_sales']/df_mops_QoQ['year_quarter_sales'].shift(1)).dropna()-1"
   ]
  },
  {
   "cell_type": "code",
   "execution_count": 60,
   "metadata": {},
   "outputs": [
    {
     "data": {
      "text/html": [
       "<div>\n",
       "<style scoped>\n",
       "    .dataframe tbody tr th:only-of-type {\n",
       "        vertical-align: middle;\n",
       "    }\n",
       "\n",
       "    .dataframe tbody tr th {\n",
       "        vertical-align: top;\n",
       "    }\n",
       "\n",
       "    .dataframe thead th {\n",
       "        text-align: right;\n",
       "    }\n",
       "</style>\n",
       "<table border=\"1\" class=\"dataframe\">\n",
       "  <thead>\n",
       "    <tr style=\"text-align: right;\">\n",
       "      <th></th>\n",
       "      <th>year_quarter</th>\n",
       "      <th>year_quarter_sales</th>\n",
       "      <th>QoQ</th>\n",
       "    </tr>\n",
       "  </thead>\n",
       "  <tbody>\n",
       "    <tr>\n",
       "      <th>0</th>\n",
       "      <td>2019Q1</td>\n",
       "      <td>1187296.0</td>\n",
       "      <td>NaN</td>\n",
       "    </tr>\n",
       "    <tr>\n",
       "      <th>1</th>\n",
       "      <td>2019Q2</td>\n",
       "      <td>1194170.0</td>\n",
       "      <td>0.005790</td>\n",
       "    </tr>\n",
       "    <tr>\n",
       "      <th>2</th>\n",
       "      <td>2019Q3</td>\n",
       "      <td>1169889.0</td>\n",
       "      <td>-0.020333</td>\n",
       "    </tr>\n",
       "    <tr>\n",
       "      <th>3</th>\n",
       "      <td>2019Q4</td>\n",
       "      <td>1454375.0</td>\n",
       "      <td>0.243173</td>\n",
       "    </tr>\n",
       "    <tr>\n",
       "      <th>4</th>\n",
       "      <td>2020Q1</td>\n",
       "      <td>1253758.0</td>\n",
       "      <td>-0.137940</td>\n",
       "    </tr>\n",
       "    <tr>\n",
       "      <th>5</th>\n",
       "      <td>2020Q2</td>\n",
       "      <td>1337872.0</td>\n",
       "      <td>0.067090</td>\n",
       "    </tr>\n",
       "    <tr>\n",
       "      <th>6</th>\n",
       "      <td>2020Q3</td>\n",
       "      <td>927930.0</td>\n",
       "      <td>-0.306413</td>\n",
       "    </tr>\n",
       "    <tr>\n",
       "      <th>7</th>\n",
       "      <td>2020Q4</td>\n",
       "      <td>1539548.0</td>\n",
       "      <td>0.659121</td>\n",
       "    </tr>\n",
       "    <tr>\n",
       "      <th>8</th>\n",
       "      <td>2021Q1</td>\n",
       "      <td>1440498.0</td>\n",
       "      <td>-0.064337</td>\n",
       "    </tr>\n",
       "    <tr>\n",
       "      <th>9</th>\n",
       "      <td>2021Q2</td>\n",
       "      <td>1464513.0</td>\n",
       "      <td>0.016671</td>\n",
       "    </tr>\n",
       "    <tr>\n",
       "      <th>10</th>\n",
       "      <td>2021Q3</td>\n",
       "      <td>1453213.0</td>\n",
       "      <td>-0.007716</td>\n",
       "    </tr>\n",
       "    <tr>\n",
       "      <th>11</th>\n",
       "      <td>2021Q4</td>\n",
       "      <td>1720850.0</td>\n",
       "      <td>0.184169</td>\n",
       "    </tr>\n",
       "    <tr>\n",
       "      <th>12</th>\n",
       "      <td>2022Q1</td>\n",
       "      <td>1532253.0</td>\n",
       "      <td>-0.109595</td>\n",
       "    </tr>\n",
       "    <tr>\n",
       "      <th>13</th>\n",
       "      <td>2022Q2</td>\n",
       "      <td>1748603.0</td>\n",
       "      <td>0.141197</td>\n",
       "    </tr>\n",
       "    <tr>\n",
       "      <th>14</th>\n",
       "      <td>2022Q3</td>\n",
       "      <td>1783091.0</td>\n",
       "      <td>0.019723</td>\n",
       "    </tr>\n",
       "    <tr>\n",
       "      <th>15</th>\n",
       "      <td>2022Q4</td>\n",
       "      <td>1991863.0</td>\n",
       "      <td>0.117084</td>\n",
       "    </tr>\n",
       "    <tr>\n",
       "      <th>16</th>\n",
       "      <td>2023Q1</td>\n",
       "      <td>1835349.0</td>\n",
       "      <td>-0.078577</td>\n",
       "    </tr>\n",
       "    <tr>\n",
       "      <th>17</th>\n",
       "      <td>2023Q2</td>\n",
       "      <td>1919371.0</td>\n",
       "      <td>0.045780</td>\n",
       "    </tr>\n",
       "    <tr>\n",
       "      <th>18</th>\n",
       "      <td>2023Q3</td>\n",
       "      <td>1873035.0</td>\n",
       "      <td>-0.024141</td>\n",
       "    </tr>\n",
       "    <tr>\n",
       "      <th>19</th>\n",
       "      <td>2023Q4</td>\n",
       "      <td>2174608.0</td>\n",
       "      <td>0.161008</td>\n",
       "    </tr>\n",
       "    <tr>\n",
       "      <th>20</th>\n",
       "      <td>2024Q1</td>\n",
       "      <td>1158117.0</td>\n",
       "      <td>-0.467436</td>\n",
       "    </tr>\n",
       "  </tbody>\n",
       "</table>\n",
       "</div>"
      ],
      "text/plain": [
       "   year_quarter  year_quarter_sales       QoQ\n",
       "0        2019Q1           1187296.0       NaN\n",
       "1        2019Q2           1194170.0  0.005790\n",
       "2        2019Q3           1169889.0 -0.020333\n",
       "3        2019Q4           1454375.0  0.243173\n",
       "4        2020Q1           1253758.0 -0.137940\n",
       "5        2020Q2           1337872.0  0.067090\n",
       "6        2020Q3            927930.0 -0.306413\n",
       "7        2020Q4           1539548.0  0.659121\n",
       "8        2021Q1           1440498.0 -0.064337\n",
       "9        2021Q2           1464513.0  0.016671\n",
       "10       2021Q3           1453213.0 -0.007716\n",
       "11       2021Q4           1720850.0  0.184169\n",
       "12       2022Q1           1532253.0 -0.109595\n",
       "13       2022Q2           1748603.0  0.141197\n",
       "14       2022Q3           1783091.0  0.019723\n",
       "15       2022Q4           1991863.0  0.117084\n",
       "16       2023Q1           1835349.0 -0.078577\n",
       "17       2023Q2           1919371.0  0.045780\n",
       "18       2023Q3           1873035.0 -0.024141\n",
       "19       2023Q4           2174608.0  0.161008\n",
       "20       2024Q1           1158117.0 -0.467436"
      ]
     },
     "execution_count": 60,
     "metadata": {},
     "output_type": "execute_result"
    }
   ],
   "source": [
    "df_mops_QoQ"
   ]
  },
  {
   "cell_type": "code",
   "execution_count": 68,
   "metadata": {},
   "outputs": [],
   "source": [
    "def mops_bar_plot_2(df, colors, x_axis, y_axis, x_label, y_label, title, width=20):\n",
    "    \n",
    "    \n",
    "    plt.figure(figsize=(10, 5))\n",
    "    plt.bar(df[x_axis], df[y_axis], color=colors, width=width)\n",
    "    plt.title(title)\n",
    "    plt.xlabel(x_label)\n",
    "    plt.ylabel(y_label)\n",
    "    plt.axhline(0, color='black', linewidth=0.5)  # Add a line at y=0 for reference\n",
    "    plt.xticks(rotation=45)\n",
    "    plt.grid(axis='y', linestyle='--', alpha=0.7)\n",
    "    plt.show()\n",
    "\n",
    "    # img_buf = io.BytesIO()\n",
    "    # plt.savefig(img_buf, format='png')\n",
    "    # img_buf.seek(0)\n",
    "    # plt.close('all')\n",
    "\n",
    "    # return img_buf"
   ]
  },
  {
   "cell_type": "code",
   "execution_count": 69,
   "metadata": {},
   "outputs": [
    {
     "data": {
      "image/png": "[encoded data removed]",
      "text/plain": [
       "<Figure size 1000x500 with 1 Axes>"
      ]
     },
     "metadata": {},
     "output_type": "display_data"
    }
   ],
   "source": [
    "x_axis = 'year_quarter'\n",
    "y_axis = 'QoQ'\n",
    "x_label = 'Year Quarter'\n",
    "y_label = 'Sales QoQ change'\n",
    "title = 'Sales QoQ'\n",
    "colors = ['green' if x > 0 else 'red' for x in df_mops_QoQ['QoQ']]\n",
    "mops_bar_plot_2(df_mops_QoQ, colors, x_axis, y_axis, x_label, y_label, title, width=1)"
   ]
  }
 ],
 "metadata": {
  "kernelspec": {
   "display_name": "base",
   "language": "python",
   "name": "python3"
  },
  "language_info": {
   "codemirror_mode": {
    "name": "ipython",
    "version": 3
   },
   "file_extension": ".py",
   "mimetype": "text/x-python",
   "name": "python",
   "nbconvert_exporter": "python",
   "pygments_lexer": "ipython3",
   "version": "3.10.14"
  }
 },
 "nbformat": 4,
 "nbformat_minor": 2
}
