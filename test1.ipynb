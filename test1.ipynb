{
 "cells": [
  {
   "cell_type": "code",
   "execution_count": 1,
   "metadata": {},
   "outputs": [],
   "source": [
    "from utils import MySQLAgent\n",
    "import json"
   ]
  },
  {
   "cell_type": "code",
   "execution_count": 2,
   "metadata": {},
   "outputs": [],
   "source": [
    "def read_config(path):\n",
    "    try:\n",
    "        with open(path, 'r') as file:\n",
    "            configs = json.load(file)\n",
    "\n",
    "        return configs\n",
    "    except FileNotFoundError:\n",
    "        print(f\"The file {path} was not found.\")\n",
    "    except json.JSONDecodeError:\n",
    "        print(f\"Error decoding JSON from the file {path}.\")"
   ]
  },
  {
   "cell_type": "code",
   "execution_count": 21,
   "metadata": {},
   "outputs": [],
   "source": [
    "configs = read_config(path=\"./connections.json\")"
   ]
  },
  {
   "cell_type": "code",
   "execution_count": 22,
   "metadata": {},
   "outputs": [],
   "source": [
    "job_configs = configs[\"CREDITREPORT\"]['VM1_mysql_conn_info']\n",
    "sql_agent = MySQLAgent(job_configs)"
   ]
  },
  {
   "cell_type": "code",
   "execution_count": 23,
   "metadata": {},
   "outputs": [
    {
     "data": {
      "text/plain": [
       "{'user': 'cust-update',\n",
       " 'pw': 'yfy0109!',\n",
       " 'host': '138.3.214.21',\n",
       " 'port': 3306,\n",
       " 'database': 'CrawlerDB'}"
      ]
     },
     "execution_count": 23,
     "metadata": {},
     "output_type": "execute_result"
    }
   ],
   "source": [
    "job_configs"
   ]
  },
  {
   "cell_type": "code",
   "execution_count": 24,
   "metadata": {},
   "outputs": [
    {
     "data": {
      "text/html": [
       "<div>\n",
       "<style scoped>\n",
       "    .dataframe tbody tr th:only-of-type {\n",
       "        vertical-align: middle;\n",
       "    }\n",
       "\n",
       "    .dataframe tbody tr th {\n",
       "        vertical-align: top;\n",
       "    }\n",
       "\n",
       "    .dataframe thead th {\n",
       "        text-align: right;\n",
       "    }\n",
       "</style>\n",
       "<table border=\"1\" class=\"dataframe\">\n",
       "  <thead>\n",
       "    <tr style=\"text-align: right;\">\n",
       "      <th></th>\n",
       "      <th>business_accounting_no</th>\n",
       "      <th>company_name</th>\n",
       "      <th>internal_id</th>\n",
       "      <th>query_name</th>\n",
       "    </tr>\n",
       "  </thead>\n",
       "  <tbody>\n",
       "    <tr>\n",
       "      <th>0</th>\n",
       "      <td>00700019</td>\n",
       "      <td>國昌綜合工廠有限公司</td>\n",
       "      <td>K7913</td>\n",
       "      <td>None</td>\n",
       "    </tr>\n",
       "    <tr>\n",
       "      <th>1</th>\n",
       "      <td>00713181</td>\n",
       "      <td>華聯食品工業股份有限公司</td>\n",
       "      <td>J5984</td>\n",
       "      <td>None</td>\n",
       "    </tr>\n",
       "    <tr>\n",
       "      <th>2</th>\n",
       "      <td>00784930</td>\n",
       "      <td>建寶食品股份有限公司</td>\n",
       "      <td>K4395</td>\n",
       "      <td>None</td>\n",
       "    </tr>\n",
       "    <tr>\n",
       "      <th>3</th>\n",
       "      <td>00966299</td>\n",
       "      <td>財團法人台北市瑠公農業產銷基金會</td>\n",
       "      <td>K9232</td>\n",
       "      <td>None</td>\n",
       "    </tr>\n",
       "    <tr>\n",
       "      <th>4</th>\n",
       "      <td>01055919</td>\n",
       "      <td>新光醫療財團法人</td>\n",
       "      <td>K1282</td>\n",
       "      <td>None</td>\n",
       "    </tr>\n",
       "  </tbody>\n",
       "</table>\n",
       "</div>"
      ],
      "text/plain": [
       "  business_accounting_no      company_name internal_id query_name\n",
       "0               00700019        國昌綜合工廠有限公司       K7913       None\n",
       "1               00713181      華聯食品工業股份有限公司       J5984       None\n",
       "2               00784930        建寶食品股份有限公司       K4395       None\n",
       "3               00966299  財團法人台北市瑠公農業產銷基金會       K9232       None\n",
       "4               01055919          新光醫療財團法人       K1282       None"
      ]
     },
     "execution_count": 24,
     "metadata": {},
     "output_type": "execute_result"
    }
   ],
   "source": [
    "query = \"\"\"\n",
    "    select * from company\n",
    "\"\"\"\n",
    "df_company = sql_agent.read_table(query=query)\n",
    "df_company.head()"
   ]
  },
  {
   "cell_type": "code",
   "execution_count": 25,
   "metadata": {},
   "outputs": [
    {
     "data": {
      "text/plain": [
       "'00700019'"
      ]
     },
     "execution_count": 25,
     "metadata": {},
     "output_type": "execute_result"
    }
   ],
   "source": [
    "i = 0\n",
    "company = df_company.iloc[i]\n",
    "company_account = company.business_accounting_no\n",
    "company_name = company.company_name\n",
    "internal_id = company.internal_id\n",
    "company_account"
   ]
  },
  {
   "cell_type": "code",
   "execution_count": 42,
   "metadata": {},
   "outputs": [
    {
     "data": {
      "text/plain": [
       "'國昌綜合工廠有限公司'"
      ]
     },
     "execution_count": 42,
     "metadata": {},
     "output_type": "execute_result"
    }
   ],
   "source": [
    "company_name"
   ]
  },
  {
   "cell_type": "markdown",
   "metadata": {},
   "source": [
    "#### companyinfo01\n",
    "\n",
    "- 企業狀態\n",
    "- 地址關聯\n",
    "- 資本額(Captial_Stock_Amount)\n",
    "- 最近更新日期"
   ]
  },
  {
   "cell_type": "code",
   "execution_count": 28,
   "metadata": {},
   "outputs": [],
   "source": [
    "try:\n",
    "    query = f\"\"\"\n",
    "        select * from companyinfo01\n",
    "        where Business_Accounting_No = {company_account}\n",
    "    \"\"\"\n",
    "    companyinfo01 = sql_agent.read_table(query=query)\n",
    "    companyinfo01.head()\n",
    "except Exception as e:\n",
    "    print(\"An error occurred:\", e)\n"
   ]
  },
  {
   "cell_type": "code",
   "execution_count": 29,
   "metadata": {},
   "outputs": [
    {
     "data": {
      "text/html": [
       "<div>\n",
       "<style scoped>\n",
       "    .dataframe tbody tr th:only-of-type {\n",
       "        vertical-align: middle;\n",
       "    }\n",
       "\n",
       "    .dataframe tbody tr th {\n",
       "        vertical-align: top;\n",
       "    }\n",
       "\n",
       "    .dataframe thead th {\n",
       "        text-align: right;\n",
       "    }\n",
       "</style>\n",
       "<table border=\"1\" class=\"dataframe\">\n",
       "  <thead>\n",
       "    <tr style=\"text-align: right;\">\n",
       "      <th></th>\n",
       "      <th>Business_Accounting_NO</th>\n",
       "      <th>Company_Status_Desc</th>\n",
       "      <th>Company_Name</th>\n",
       "      <th>Capital_Stock_Amount</th>\n",
       "      <th>Paid_In_Capital_Amount</th>\n",
       "      <th>Responsible_Name</th>\n",
       "      <th>Company_Location</th>\n",
       "      <th>Register_Organization_Desc</th>\n",
       "      <th>Company_Setup_Date</th>\n",
       "      <th>Change_Of_Approval_Data</th>\n",
       "      <th>Revoke_App_Date</th>\n",
       "      <th>Case_Status</th>\n",
       "      <th>Case_Status_Desc</th>\n",
       "      <th>Sus_App_Date</th>\n",
       "      <th>Sus_Beg_Date</th>\n",
       "      <th>Sus_End_Date</th>\n",
       "      <th>CreateTime</th>\n",
       "      <th>UpdateTime</th>\n",
       "    </tr>\n",
       "  </thead>\n",
       "  <tbody>\n",
       "    <tr>\n",
       "      <th>0</th>\n",
       "      <td>00700019</td>\n",
       "      <td>核准設立</td>\n",
       "      <td>國昌綜合工廠有限公司</td>\n",
       "      <td>6000000</td>\n",
       "      <td>0</td>\n",
       "      <td>李貴發</td>\n",
       "      <td>基隆市七堵區泰安路111-1號1樓</td>\n",
       "      <td>經濟部中部辦公室</td>\n",
       "      <td>0610927</td>\n",
       "      <td>1120411</td>\n",
       "      <td></td>\n",
       "      <td></td>\n",
       "      <td></td>\n",
       "      <td></td>\n",
       "      <td></td>\n",
       "      <td></td>\n",
       "      <td>2024-01-29 06:22:05</td>\n",
       "      <td>2024-03-15 19:00:07</td>\n",
       "    </tr>\n",
       "  </tbody>\n",
       "</table>\n",
       "</div>"
      ],
      "text/plain": [
       "  Business_Accounting_NO Company_Status_Desc Company_Name  \\\n",
       "0               00700019                核准設立   國昌綜合工廠有限公司   \n",
       "\n",
       "   Capital_Stock_Amount  Paid_In_Capital_Amount Responsible_Name  \\\n",
       "0               6000000                       0              李貴發   \n",
       "\n",
       "    Company_Location Register_Organization_Desc Company_Setup_Date  \\\n",
       "0  基隆市七堵區泰安路111-1號1樓                   經濟部中部辦公室            0610927   \n",
       "\n",
       "  Change_Of_Approval_Data Revoke_App_Date Case_Status Case_Status_Desc  \\\n",
       "0                 1120411                                                \n",
       "\n",
       "  Sus_App_Date Sus_Beg_Date Sus_End_Date          CreateTime  \\\n",
       "0                                        2024-01-29 06:22:05   \n",
       "\n",
       "           UpdateTime  \n",
       "0 2024-03-15 19:00:07  "
      ]
     },
     "execution_count": 29,
     "metadata": {},
     "output_type": "execute_result"
    }
   ],
   "source": [
    "companyinfo01"
   ]
  },
  {
   "cell_type": "code",
   "execution_count": 44,
   "metadata": {},
   "outputs": [],
   "source": [
    "# 公司狀態\n",
    "company_status = companyinfo01['Company_Status_Desc'].values[0]\n",
    "\n",
    "# 地址關聯 - neo4j\n",
    "\n",
    "# 資本額\n",
    "company_captial = companyinfo01['Capital_Stock_Amount'].values[0]"
   ]
  },
  {
   "cell_type": "code",
   "execution_count": 45,
   "metadata": {},
   "outputs": [
    {
     "data": {
      "text/plain": [
       "6000000"
      ]
     },
     "execution_count": 45,
     "metadata": {},
     "output_type": "execute_result"
    }
   ],
   "source": [
    "company_captial"
   ]
  },
  {
   "cell_type": "code",
   "execution_count": 37,
   "metadata": {},
   "outputs": [
    {
     "name": "stdout",
     "output_type": "stream",
     "text": [
      "['核准設立']\n"
     ]
    }
   ],
   "source": [
    "# 地址關聯 - neo4j"
   ]
  }
 ],
 "metadata": {
  "kernelspec": {
   "display_name": "base",
   "language": "python",
   "name": "python3"
  },
  "language_info": {
   "codemirror_mode": {
    "name": "ipython",
    "version": 3
   },
   "file_extension": ".py",
   "mimetype": "text/x-python",
   "name": "python",
   "nbconvert_exporter": "python",
   "pygments_lexer": "ipython3",
   "version": "3.11.5"
  }
 },
 "nbformat": 4,
 "nbformat_minor": 2
}
