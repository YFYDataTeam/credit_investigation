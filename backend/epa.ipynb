{
 "cells": [
  {
   "cell_type": "code",
   "execution_count": 1,
   "metadata": {},
   "outputs": [],
   "source": [
    "import pandas as pd\n",
    "from src.utils import MySQLAgent, read_config\n",
    "from src.credit_invest import CreditInvest\n",
    "import json"
   ]
  },
  {
   "cell_type": "code",
   "execution_count": 2,
   "metadata": {},
   "outputs": [],
   "source": [
    "conn_path = \".env/connections.json\"\n",
    "configs = read_config(path=conn_path)\n",
    "conn_configs = configs[\"CREDITREPORT\"]['Crawler_mysql_conn_info']\n",
    "credit_invest = CreditInvest(conn_configs=conn_configs)"
   ]
  },
  {
   "cell_type": "code",
   "execution_count": 3,
   "metadata": {},
   "outputs": [
    {
     "data": {
      "text/html": [
       "<div>\n",
       "<style scoped>\n",
       "    .dataframe tbody tr th:only-of-type {\n",
       "        vertical-align: middle;\n",
       "    }\n",
       "\n",
       "    .dataframe tbody tr th {\n",
       "        vertical-align: top;\n",
       "    }\n",
       "\n",
       "    .dataframe thead th {\n",
       "        text-align: right;\n",
       "    }\n",
       "</style>\n",
       "<table border=\"1\" class=\"dataframe\">\n",
       "  <thead>\n",
       "    <tr style=\"text-align: right;\">\n",
       "      <th></th>\n",
       "      <th>business_accounting_no</th>\n",
       "      <th>fac_name</th>\n",
       "      <th>penalty_money</th>\n",
       "      <th>penalty_date</th>\n",
       "      <th>transgress_type</th>\n",
       "      <th>is_improve</th>\n",
       "      <th>penaltykind</th>\n",
       "      <th>paymentstate</th>\n",
       "    </tr>\n",
       "  </thead>\n",
       "  <tbody>\n",
       "    <tr>\n",
       "      <th>0</th>\n",
       "      <td>02853671</td>\n",
       "      <td>味榮食品工業股份有限公司</td>\n",
       "      <td>30000</td>\n",
       "      <td>2022-10-04</td>\n",
       "      <td>水污染</td>\n",
       "      <td>不須改善</td>\n",
       "      <td>罰鍰(非連續處罰)</td>\n",
       "      <td>無分期已繳清</td>\n",
       "    </tr>\n",
       "    <tr>\n",
       "      <th>1</th>\n",
       "      <td>02853671</td>\n",
       "      <td>味榮食品工業股份有限公司</td>\n",
       "      <td>1200</td>\n",
       "      <td>2022-09-07</td>\n",
       "      <td>一般廢棄物</td>\n",
       "      <td>不須改善</td>\n",
       "      <td>罰鍰(非連續處罰)</td>\n",
       "      <td>無分期已繳清</td>\n",
       "    </tr>\n",
       "    <tr>\n",
       "      <th>2</th>\n",
       "      <td>02853671</td>\n",
       "      <td>國森企業股份有限公司</td>\n",
       "      <td>1000</td>\n",
       "      <td>2024-03-29</td>\n",
       "      <td>移動污染</td>\n",
       "      <td>不須改善</td>\n",
       "      <td>罰鍰(非連續處罰)</td>\n",
       "      <td>尚未繳款</td>\n",
       "    </tr>\n",
       "  </tbody>\n",
       "</table>\n",
       "</div>"
      ],
      "text/plain": [
       "  business_accounting_no      fac_name penalty_money penalty_date  \\\n",
       "0               02853671  味榮食品工業股份有限公司         30000   2022-10-04   \n",
       "1               02853671  味榮食品工業股份有限公司          1200   2022-09-07   \n",
       "2               02853671    國森企業股份有限公司          1000   2024-03-29   \n",
       "\n",
       "  transgress_type is_improve penaltykind paymentstate  \n",
       "0             水污染       不須改善   罰鍰(非連續處罰)       無分期已繳清  \n",
       "1           一般廢棄物       不須改善   罰鍰(非連續處罰)       無分期已繳清  \n",
       "2            移動污染       不須改善   罰鍰(非連續處罰)         尚未繳款  "
      ]
     },
     "execution_count": 3,
     "metadata": {},
     "output_type": "execute_result"
    }
   ],
   "source": [
    "company_id = '02853671'\n",
    "query = f\"\"\"\n",
    "                select business_accounting_no, fac_name, penalty_money, penalty_date, transgress_type, is_improve, penaltykind, paymentstate\n",
    "                from epa_ems_p_46\n",
    "                where Business_Accounting_No = {company_id} and penalty_date >= DATE_SUB(CURRENT_DATE(), INTERVAL 3 YEAR)\n",
    "            \"\"\"\n",
    "df_epa = credit_invest.read_table(query=query)\n",
    "df_epa"
   ]
  },
  {
   "cell_type": "code",
   "execution_count": 12,
   "metadata": {},
   "outputs": [],
   "source": [
    "# record count in terms of penaltykind\n",
    "penaltykind_count = df_epa.groupby(['penaltykind']).size().reset_index(name=\"count\")\n",
    "# penalty_money in terms of penaltykind\n",
    "df_epa['penalty_money'] = df_epa['penalty_money'].astype(int)\n",
    "penaltykind_total_money = df_epa.groupby(['penaltykind']).agg(penaltykind_amount=('penalty_money','sum')).reset_index()\n",
    "# is_improve in terms of penalty_kind\n",
    "improve_state = df_epa.groupby(['penaltykind', 'is_improve']).size().reset_index()\n",
    "# penalty_money of paymentstate = '尚未繳款'\n",
    "penaltykind_unpay = df_epa[df_epa['paymentstate'] == '尚未繳款'].groupby(['penaltykind','paymentstate']).agg(penaltykind_amount=('penalty_money','sum')).reset_index()"
   ]
  },
  {
   "cell_type": "code",
   "execution_count": 10,
   "metadata": {},
   "outputs": [],
   "source": [
    "epa_result = {\n",
    "    'penaltykind_count': penaltykind_count.to_dict(orient='records'),\n",
    "    'penaltykind_total_money': penaltykind_total_money.to_dict(orient='records'),\n",
    "    'improve_state': improve_state.to_dict(orient='records'),\n",
    "    'penaltykind_unpay': penaltykind_unpay.to_dict(orient='records')\n",
    "}"
   ]
  },
  {
   "cell_type": "code",
   "execution_count": 13,
   "metadata": {},
   "outputs": [
    {
     "data": {
      "text/html": [
       "<div>\n",
       "<style scoped>\n",
       "    .dataframe tbody tr th:only-of-type {\n",
       "        vertical-align: middle;\n",
       "    }\n",
       "\n",
       "    .dataframe tbody tr th {\n",
       "        vertical-align: top;\n",
       "    }\n",
       "\n",
       "    .dataframe thead th {\n",
       "        text-align: right;\n",
       "    }\n",
       "</style>\n",
       "<table border=\"1\" class=\"dataframe\">\n",
       "  <thead>\n",
       "    <tr style=\"text-align: right;\">\n",
       "      <th></th>\n",
       "      <th>penaltykind</th>\n",
       "      <th>count</th>\n",
       "    </tr>\n",
       "  </thead>\n",
       "  <tbody>\n",
       "    <tr>\n",
       "      <th>0</th>\n",
       "      <td>罰鍰(非連續處罰)</td>\n",
       "      <td>3</td>\n",
       "    </tr>\n",
       "  </tbody>\n",
       "</table>\n",
       "</div>"
      ],
      "text/plain": [
       "  penaltykind  count\n",
       "0   罰鍰(非連續處罰)      3"
      ]
     },
     "execution_count": 13,
     "metadata": {},
     "output_type": "execute_result"
    }
   ],
   "source": [
    "penaltykind_count"
   ]
  }
 ],
 "metadata": {
  "kernelspec": {
   "display_name": "credit_invest",
   "language": "python",
   "name": "python3"
  },
  "language_info": {
   "codemirror_mode": {
    "name": "ipython",
    "version": 3
   },
   "file_extension": ".py",
   "mimetype": "text/x-python",
   "name": "python",
   "nbconvert_exporter": "python",
   "pygments_lexer": "ipython3",
   "version": "3.10.14"
  }
 },
 "nbformat": 4,
 "nbformat_minor": 2
}
